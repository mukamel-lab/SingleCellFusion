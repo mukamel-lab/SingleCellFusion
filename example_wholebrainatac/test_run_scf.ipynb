{
 "cells": [
  {
   "cell_type": "markdown",
   "metadata": {},
   "source": [
    "# Ingest the new ATAC-seq file "
   ]
  },
  {
   "cell_type": "code",
   "execution_count": 3,
   "metadata": {},
   "outputs": [
    {
     "name": "stderr",
     "output_type": "stream",
     "text": [
      "/cndd2/fangming/venvs/routine/lib/python3.8/site-packages/anndata/core/anndata.py:17: FutureWarning: pandas.core.index is deprecated and will be removed in a future version.  The public classes are available in the top-level namespace.\n",
      "  from pandas.core.index import RangeIndex\n"
     ]
    }
   ],
   "source": [
    "# import h5py\n",
    "import anndata"
   ]
  },
  {
   "cell_type": "markdown",
   "metadata": {},
   "source": [
    "https://anndata.readthedocs.io/en/latest/anndata.AnnData.html"
   ]
  },
  {
   "cell_type": "code",
   "execution_count": 8,
   "metadata": {},
   "outputs": [
    {
     "name": "stdout",
     "output_type": "stream",
     "text": [
      "ln: failed to create symbolic link './dataset': File exists\n"
     ]
    }
   ],
   "source": [
    "# # get the file\n",
    "# !ln -s /cndd2/aditya/scf/snap_processing/*.gmat.h5ad ./datasets/\n",
    "\n",
    "!ln -s /cndd2/aditya/scf/snap_processing/biccn2_dataset.gmat.h5ad ./dataset\n",
    "# "
   ]
  },
  {
   "cell_type": "code",
   "execution_count": 10,
   "metadata": {},
   "outputs": [
    {
     "name": "stdout",
     "output_type": "stream",
     "text": [
      "<class 'scipy.sparse.csc.csc_matrix'> <class 'pandas.core.frame.DataFrame'> <class 'pandas.core.frame.DataFrame'> <class 'collections.OrderedDict'>\n",
      "(100000, 53379) (53379, 7) (100000, 0) 0\n"
     ]
    }
   ],
   "source": [
    "# take a look\n",
    "f = './datasets/biccn2_dataset.gmat.h5ad'\n",
    "data = anndata.read_h5ad(f)\n",
    "\n",
    "# cell by gene\n",
    "print(type(data.X), type(data.var), type(data.obs), type(data.uns))\n",
    "print(data.X.shape, data.var.shape, data.obs.shape, len(data.uns))"
   ]
  },
  {
   "cell_type": "code",
   "execution_count": 11,
   "metadata": {},
   "outputs": [
    {
     "data": {
      "text/plain": [
       "<100000x53379 sparse matrix of type '<class 'numpy.float32'>'\n",
       "\twith 530699 stored elements in Compressed Sparse Column format>"
      ]
     },
     "execution_count": 11,
     "metadata": {},
     "output_type": "execute_result"
    }
   ],
   "source": [
    "data.X"
   ]
  },
  {
   "cell_type": "code",
   "execution_count": 12,
   "metadata": {},
   "outputs": [
    {
     "name": "stdout",
     "output_type": "stream",
     "text": [
      "<class 'scipy.sparse.csc.csc_matrix'> <class 'pandas.core.frame.DataFrame'> <class 'pandas.core.frame.DataFrame'> <class 'collections.OrderedDict'>\n",
      "(13257, 5427) (5427, 0) (13257, 0) 0\n"
     ]
    }
   ],
   "source": [
    "# take a look\n",
    "f = './datasets/snatac.h5ad'\n",
    "data = anndata.read_h5ad(f)\n",
    "\n",
    "# cell by gene\n",
    "print(type(data.X), type(data.var), type(data.obs), type(data.uns))\n",
    "print(data.X.shape, data.var.shape, data.obs.shape, len(data.uns))"
   ]
  },
  {
   "cell_type": "code",
   "execution_count": 5,
   "metadata": {},
   "outputs": [
    {
     "name": "stdout",
     "output_type": "stream",
     "text": [
      "<class 'scipy.sparse.csc.csc_matrix'> <class 'pandas.core.frame.DataFrame'> <class 'pandas.core.frame.DataFrame'> <class 'collections.OrderedDict'>\n",
      "(13, 4751) (4751, 0) (13, 127) 0\n"
     ]
    }
   ],
   "source": [
    "f = './datasets/smarter_cells.h5ad'\n",
    "data = anndata.read_h5ad(f)\n",
    "\n",
    "# cell by gene\n",
    "print(type(data.X), type(data.var), type(data.obs), type(data.uns))\n",
    "print(data.X.shape, data.var.shape, data.obs.shape, len(data.uns))"
   ]
  },
  {
   "cell_type": "code",
   "execution_count": null,
   "metadata": {},
   "outputs": [],
   "source": [
    "# why those old files cannot be opened?? version issue?\n",
    "# why it stuck at it?"
   ]
  },
  {
   "cell_type": "markdown",
   "metadata": {},
   "source": [
    "# Normalizations and select highly variable genes \n",
    "- copy from elsewhere"
   ]
  },
  {
   "cell_type": "markdown",
   "metadata": {},
   "source": [
    "# Run SCF \n",
    "\n",
    "- anndata version 0.7.5\n",
    "- use env `/cndd2/fangming/venvs/scf_terra`"
   ]
  },
  {
   "cell_type": "code",
   "execution_count": 15,
   "metadata": {},
   "outputs": [],
   "source": [
    "# !./run_scf.sh"
   ]
  },
  {
   "cell_type": "markdown",
   "metadata": {},
   "source": [
    "# check results"
   ]
  },
  {
   "cell_type": "code",
   "execution_count": null,
   "metadata": {},
   "outputs": [],
   "source": []
  }
 ],
 "metadata": {
  "kernelspec": {
   "display_name": "Python 3",
   "language": "python",
   "name": "python3"
  },
  "language_info": {
   "codemirror_mode": {
    "name": "ipython",
    "version": 3
   },
   "file_extension": ".py",
   "mimetype": "text/x-python",
   "name": "python",
   "nbconvert_exporter": "python",
   "pygments_lexer": "ipython3",
   "version": "3.8.1"
  }
 },
 "nbformat": 4,
 "nbformat_minor": 4
}
