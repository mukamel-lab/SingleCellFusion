{
 "cells": [
  {
   "cell_type": "markdown",
   "metadata": {},
   "source": [
    "# Ingest the new ATAC-seq file "
   ]
  },
  {
   "cell_type": "code",
   "execution_count": 1,
   "metadata": {},
   "outputs": [
    {
     "name": "stderr",
     "output_type": "stream",
     "text": [
      "/cndd2/fangming/venvs/routine/lib/python3.8/site-packages/anndata/core/anndata.py:17: FutureWarning: pandas.core.index is deprecated and will be removed in a future version.  The public classes are available in the top-level namespace.\n",
      "  from pandas.core.index import RangeIndex\n"
     ]
    }
   ],
   "source": [
    "# import h5py\n",
    "import anndata"
   ]
  },
  {
   "cell_type": "markdown",
   "metadata": {},
   "source": [
    "https://anndata.readthedocs.io/en/latest/anndata.AnnData.html"
   ]
  },
  {
   "cell_type": "code",
   "execution_count": 5,
   "metadata": {},
   "outputs": [
    {
     "name": "stdout",
     "output_type": "stream",
     "text": [
      "ln: failed to create symbolic link './datasets/CEMBA190214_11E.gmat.h5ad': File exists\n"
     ]
    }
   ],
   "source": [
    "# # get the file\n",
    "!ln -s /cndd2/aditya/scf/snap_processing/*.gmat.h5ad ./datasets/"
   ]
  },
  {
   "cell_type": "code",
   "execution_count": 19,
   "metadata": {},
   "outputs": [
    {
     "name": "stdout",
     "output_type": "stream",
     "text": [
      "<class 'scipy.sparse.csc.csc_matrix'> <class 'pandas.core.frame.DataFrame'> <class 'pandas.core.frame.DataFrame'> <class 'collections.OrderedDict'>\n",
      "(100000, 53379) (53379, 7) (100000, 0) 0\n"
     ]
    }
   ],
   "source": [
    "# take a look\n",
    "f = './datasets/snatac.h5ad'\n",
    "data = anndata.read_h5ad(f)\n",
    "\n",
    "# cell by gene\n",
    "print(type(data.X), type(data.var), type(data.obs), type(data.uns))\n",
    "print(data.X.shape, data.var.shape, data.obs.shape, len(data.uns))"
   ]
  },
  {
   "cell_type": "code",
   "execution_count": 6,
   "metadata": {},
   "outputs": [
    {
     "name": "stdout",
     "output_type": "stream",
     "text": [
      "<class 'scipy.sparse.csc.csc_matrix'> <class 'pandas.core.frame.DataFrame'> <class 'pandas.core.frame.DataFrame'> <class 'collections.OrderedDict'>\n",
      "(13, 4751) (4751, 0) (13, 127) 0\n"
     ]
    }
   ],
   "source": [
    "f = './datasets/smarter_cells.h5ad'\n",
    "data = anndata.read_h5ad(f)\n",
    "\n",
    "# cell by gene\n",
    "print(type(data.X), type(data.var), type(data.obs), type(data.uns))\n",
    "print(data.X.shape, data.var.shape, data.obs.shape, len(data.uns))"
   ]
  },
  {
   "cell_type": "code",
   "execution_count": null,
   "metadata": {},
   "outputs": [],
   "source": [
    "# why those old files cannot be opened?? version issue?\n",
    "# why it stuck at it?"
   ]
  },
  {
   "cell_type": "markdown",
   "metadata": {},
   "source": [
    "# Normalizations and select highly variable genes \n",
    "- copy from elsewhere"
   ]
  },
  {
   "cell_type": "code",
   "execution_count": null,
   "metadata": {},
   "outputs": [],
   "source": []
  },
  {
   "cell_type": "code",
   "execution_count": null,
   "metadata": {},
   "outputs": [],
   "source": []
  },
  {
   "cell_type": "code",
   "execution_count": null,
   "metadata": {},
   "outputs": [],
   "source": []
  },
  {
   "cell_type": "markdown",
   "metadata": {},
   "source": [
    "# Run SCF \n",
    "\n",
    "- anndata version 0.7.5\n",
    "- use env `/cndd2/fangming/venvs/scf_terra`"
   ]
  },
  {
   "cell_type": "code",
   "execution_count": 26,
   "metadata": {},
   "outputs": [
    {
     "name": "stdout",
     "output_type": "stream",
     "text": [
      "/cndd2/fangming/venvs/routine/lib/python3.8/site-packages/anndata/core/anndata.py:17: FutureWarning: pandas.core.index is deprecated and will be removed in a future version.  The public classes are available in the top-level namespace.\n",
      "  from pandas.core.index import RangeIndex\n",
      "03/31/2021 02:11:14 PM . config_scf.py\n",
      "03/31/2021 02:11:14 PM Adding . to python path\n",
      "03/31/2021 02:11:14 PM * Begin integration\n",
      "smarter_cells\n",
      "/cndd2/fangming/projects/SCF_package/branch_terra/SingleCellFusion/example_wholebrainatac/datasets/smarter_cells.h5ad\n",
      "Traceback (most recent call last):\n",
      "  File \"../scripts/SCF_main.py\", line 116, in <module>\n",
      "    h5ad_mat = anndata.read_h5ad(_file) \n",
      "  File \"/cndd2/fangming/venvs/routine/lib/python3.8/site-packages/anndata/readwrite/read.py\", line 447, in read_h5ad\n",
      "    constructor_args = _read_args_from_h5ad(filename=filename, chunk_size=chunk_size)\n",
      "  File \"/cndd2/fangming/venvs/routine/lib/python3.8/site-packages/anndata/readwrite/read.py\", line 502, in _read_args_from_h5ad\n",
      "    return AnnData._args_from_dict(d)\n",
      "  File \"/cndd2/fangming/venvs/routine/lib/python3.8/site-packages/anndata/core/anndata.py\", line 2157, in _args_from_dict\n",
      "    if key in d_true_keys[true_key].dtype.names:\n",
      "AttributeError: 'dict' object has no attribute 'dtype'\n"
     ]
    }
   ],
   "source": [
    "!./run_scf.sh"
   ]
  },
  {
   "cell_type": "code",
   "execution_count": 2,
   "metadata": {},
   "outputs": [
    {
     "data": {
      "text/plain": [
       "'0.6.22.post1'"
      ]
     },
     "execution_count": 2,
     "metadata": {},
     "output_type": "execute_result"
    }
   ],
   "source": [
    "anndata.__version__"
   ]
  },
  {
   "cell_type": "code",
   "execution_count": null,
   "metadata": {},
   "outputs": [],
   "source": []
  }
 ],
 "metadata": {
  "kernelspec": {
   "display_name": "Python 3",
   "language": "python",
   "name": "python3"
  },
  "language_info": {
   "codemirror_mode": {
    "name": "ipython",
    "version": 3
   },
   "file_extension": ".py",
   "mimetype": "text/x-python",
   "name": "python",
   "nbconvert_exporter": "python",
   "pygments_lexer": "ipython3",
   "version": "3.8.1"
  }
 },
 "nbformat": 4,
 "nbformat_minor": 4
}
