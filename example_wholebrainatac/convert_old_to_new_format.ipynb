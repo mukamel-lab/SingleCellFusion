{
 "cells": [
  {
   "cell_type": "markdown",
   "metadata": {},
   "source": [
    "# Convert old format to new format"
   ]
  },
  {
   "cell_type": "code",
   "execution_count": 4,
   "metadata": {},
   "outputs": [],
   "source": [
    "import sys\n",
    "basedir = '/cndd2/fangming/projects/SCF_package/branch_terra/SingleCellFusion'\n",
    "sample = 'example_wholebrainatac'\n",
    "sys.path.insert(0, basedir+'/scripts')\n",
    "\n",
    "from __init__ import *\n",
    "\n",
    "from scipy import sparse\n",
    "import collections\n",
    "import itertools\n",
    "import re, os\n",
    "import seaborn as sns \n",
    "import pandas as pd\n",
    "import anndata\n",
    "import matplotlib.pyplot as plt\n",
    "\n",
    "import basic_utils\n",
    "import clst_utils\n",
    "import SCF_utils\n",
    "\n",
    "# Load the \n",
    "sys.path.insert(0, basedir+'/'+sample)\n",
    "from config_scf import *"
   ]
  },
  {
   "cell_type": "code",
   "execution_count": 2,
   "metadata": {},
   "outputs": [],
   "source": [
    "def scf_rna_format_to_h5ad(meta, gc_mat):\n",
    "    \"\"\"\n",
    "    input:\n",
    "        - meta (cell metadata)\n",
    "        - gc_mat\n",
    "    \n",
    "    output:\n",
    "        - anndata\n",
    "    \"\"\"\n",
    "    X = gc_mat.data.T # cell by gene [scipy sparse matrix]\n",
    "    obs = meta # cell annotation [pandas dataframe]\n",
    "    var = pd.DataFrame(index=gc_mat.gene) # gene annotation [pandas dataframe]\n",
    "    \n",
    "    h5ad_mat = anndata.AnnData(X, obs, var,)\n",
    "    \n",
    "    return h5ad_mat\n",
    "\n",
    "def scf_mc_format_to_h5ad(meta, mat):\n",
    "    \"\"\"\n",
    "    input:\n",
    "        - meta (cell metadata)\n",
    "        - gc_mat\n",
    "    \n",
    "    output:\n",
    "        - anndata\n",
    "    \"\"\"\n",
    "    X = mat.T.values # cell by gene [numpy array]\n",
    "    obs = meta # cell annotation [pandas dataframe]\n",
    "    var = pd.DataFrame(index=mat.index) # gene annotation [pandas dataframe]\n",
    "    \n",
    "    h5ad_mat = anndata.AnnData(X, obs, var,)\n",
    "    \n",
    "    return h5ad_mat"
   ]
  },
  {
   "cell_type": "code",
   "execution_count": 5,
   "metadata": {},
   "outputs": [
    {
     "name": "stdout",
     "output_type": "stream",
     "text": [
      "snmcseq_gene\n"
     ]
    },
    {
     "name": "stderr",
     "output_type": "stream",
     "text": [
      "/cndd2/fangming/venvs/routine/lib/python3.8/site-packages/anndata/core/anndata.py:1328: FutureWarning: is_categorical is deprecated and will be removed in a future version.  Use is_categorical_dtype instead\n",
      "  and not is_categorical(df[key])\n",
      "... storing 'Region' as categorical\n",
      "... storing 'index_name' as categorical\n",
      "... storing 'uid' as categorical\n",
      "... storing 'Pos96' as categorical\n",
      "... storing 'Plate' as categorical\n",
      "... storing 'MajorCluster' as categorical\n",
      "... storing 'SubCluster' as categorical\n"
     ]
    },
    {
     "name": "stdout",
     "output_type": "stream",
     "text": [
      "(298, 31)\n",
      "(4690, 298)\n"
     ]
    },
    {
     "name": "stderr",
     "output_type": "stream",
     "text": [
      "/cndd2/fangming/venvs/routine/lib/python3.8/site-packages/anndata/core/anndata.py:101: FutureWarning: is_categorical is deprecated and will be removed in a future version.  Use is_categorical_dtype instead\n",
      "  if is_string_dtype(df[k]) and not is_categorical(df[k]):\n",
      "/cndd2/fangming/venvs/routine/lib/python3.8/site-packages/anndata/core/anndata.py:108: FutureWarning: is_categorical is deprecated and will be removed in a future version.  Use is_categorical_dtype instead\n",
      "  elif is_categorical(df[k]):\n"
     ]
    },
    {
     "name": "stdout",
     "output_type": "stream",
     "text": [
      "0.9744393825531006\n",
      "smarter_cells\n",
      "(13, 128)\n",
      "(4751, 13)\n"
     ]
    },
    {
     "name": "stderr",
     "output_type": "stream",
     "text": [
      "... storing 'cluster_label' as categorical\n",
      "... storing 'subclass_label' as categorical\n",
      "... storing 'class_label' as categorical\n",
      "... storing 'cluster_color' as categorical\n",
      "... storing 'batch' as categorical\n",
      "... storing 'batch_vendor_name' as categorical\n",
      "... storing 'tube' as categorical\n",
      "... storing 'tube_internal_name' as categorical\n",
      "... storing 'r1_index' as categorical\n",
      "... storing 'r2_index' as categorical\n",
      "... storing 'organism' as categorical\n",
      "... storing 'facs_container' as categorical\n",
      "... storing 'gender' as categorical\n",
      "... storing 'cell_prep_type' as categorical\n",
      "... storing 'full_genotype' as categorical\n",
      "... storing 'facs_population_plan' as categorical\n",
      "... storing 'cre_line' as categorical\n",
      "... storing 'reporter' as categorical\n",
      "... storing 'roi' as categorical\n",
      "... storing 'rna_amplification_set' as categorical\n",
      "... storing 'amp_date' as categorical\n",
      "... storing 'pcr_cycles' as categorical\n",
      "... storing 'rna_amplification_pass_fail' as categorical\n",
      "... storing 'library_prep_set' as categorical\n",
      "... storing 'lib_date' as categorical\n",
      "... storing 'library_prep_pass_fail' as categorical\n",
      "... storing 'alignment_date' as categorical\n",
      "... storing 'Exclude.STAR' as categorical\n",
      "... storing 'Region' as categorical\n",
      "... storing 'Well.Row' as categorical\n",
      "... storing 'Type' as categorical\n",
      "... storing 'Class' as categorical\n",
      "... storing 'Fill.Date' as categorical\n",
      "... storing 'FACS.Date' as categorical\n",
      "... storing 'S4.Lot' as categorical\n",
      "... storing 'Seq_Amp' as categorical\n",
      "... storing 'NexteraLot' as categorical\n",
      "... storing 'Nextera.Index.Lot' as categorical\n",
      "... storing 'FACS_gate' as categorical\n",
      "... storing 'Pipette_Filter_size' as categorical\n",
      "... storing 'NewBatch' as categorical\n",
      "... storing 'Vendor' as categorical\n",
      "... storing 'MultiPlex' as categorical\n",
      "... storing 'cluster_label' as categorical\n",
      "... storing 'subclass_label' as categorical\n",
      "... storing 'class_label' as categorical\n",
      "... storing 'cluster_color' as categorical\n",
      "... storing 'batch' as categorical\n",
      "... storing 'batch_vendor_name' as categorical\n",
      "... storing 'tube' as categorical\n",
      "... storing 'tube_internal_name' as categorical\n",
      "... storing 'r1_index' as categorical\n",
      "... storing 'r2_index' as categorical\n",
      "... storing 'index_sequence_pair' as categorical\n",
      "... storing 'organism' as categorical\n",
      "... storing 'facs_container' as categorical\n",
      "... storing 'sample_name' as categorical\n",
      "... storing 'cell_name' as categorical\n",
      "... storing 'gender' as categorical\n"
     ]
    },
    {
     "name": "stdout",
     "output_type": "stream",
     "text": [
      "1.3955459594726562\n",
      "smarter_nuclei\n",
      "(195, 145)\n",
      "(5646, 195)\n"
     ]
    },
    {
     "name": "stderr",
     "output_type": "stream",
     "text": [
      "... storing 'cell_prep_type' as categorical\n",
      "... storing 'full_genotype' as categorical\n",
      "... storing 'facs_population_plan' as categorical\n",
      "... storing 'cre_line' as categorical\n",
      "... storing 'reporter' as categorical\n",
      "... storing 'roi' as categorical\n",
      "... storing 'rna_amplification_set' as categorical\n",
      "... storing 'rna_amplification' as categorical\n",
      "... storing 'amp_date' as categorical\n",
      "... storing 'pcr_cycles' as categorical\n",
      "... storing 'rna_amplification_pass_fail' as categorical\n",
      "... storing 'library_prep_set' as categorical\n",
      "... storing 'lib_date' as categorical\n",
      "... storing 'library_prep_pass_fail' as categorical\n",
      "... storing 'alignment_date' as categorical\n",
      "... storing 'Exclude.STAR' as categorical\n",
      "... storing 'Region' as categorical\n",
      "... storing 'Well.Row' as categorical\n",
      "... storing 'Type' as categorical\n",
      "... storing 'Class' as categorical\n",
      "... storing 'Fill.Date' as categorical\n",
      "... storing 'FACS.Date' as categorical\n",
      "... storing 'S4.Lot' as categorical\n",
      "... storing 'Seq_Amp' as categorical\n",
      "... storing 'NexteraLot' as categorical\n",
      "... storing 'Nextera.Index.Lot' as categorical\n",
      "... storing 'FACS_gate' as categorical\n",
      "... storing 'Pipette_Filter_size' as categorical\n",
      "... storing 'NewBatch' as categorical\n",
      "... storing 'Vendor' as categorical\n",
      "... storing 'MultiPlex' as categorical\n",
      "... storing 'cluster_label.1' as categorical\n",
      "... storing 'cluster_label.2' as categorical\n",
      "... storing 'category_label' as categorical\n",
      "... storing 'Region.1' as categorical\n"
     ]
    },
    {
     "name": "stdout",
     "output_type": "stream",
     "text": [
      "1.9642419815063477\n",
      "10x_cells_v2\n",
      "(525, 7)\n",
      "(4086, 525)\n"
     ]
    },
    {
     "name": "stderr",
     "output_type": "stream",
     "text": [
      "... storing 'cluster_label' as categorical\n",
      "... storing 'subclass_label' as categorical\n",
      "... storing 'class_label' as categorical\n",
      "... storing 'cluster_color' as categorical\n"
     ]
    },
    {
     "name": "stdout",
     "output_type": "stream",
     "text": [
      "2.7254490852355957\n",
      "snatac\n"
     ]
    },
    {
     "ename": "FileNotFoundError",
     "evalue": "[Errno 2] No such file or directory: '/cndd2/fangming/projects/SCF_package/branch_terra/SingleCellFusion/example_wholebrainatac/datasets/old/snatac_metadata.tsv'",
     "output_type": "error",
     "traceback": [
      "\u001b[0;31m---------------------------------------------------------------------------\u001b[0m",
      "\u001b[0;31mFileNotFoundError\u001b[0m                         Traceback (most recent call last)",
      "\u001b[0;32m<ipython-input-5-94a6cc833163>\u001b[0m in \u001b[0;36m<module>\u001b[0;34m\u001b[0m\n\u001b[1;32m     34\u001b[0m \u001b[0;34m\u001b[0m\u001b[0m\n\u001b[1;32m     35\u001b[0m     \u001b[0;31m# read\u001b[0m\u001b[0;34m\u001b[0m\u001b[0;34m\u001b[0m\u001b[0;34m\u001b[0m\u001b[0m\n\u001b[0;32m---> 36\u001b[0;31m     \u001b[0mmeta\u001b[0m \u001b[0;34m=\u001b[0m \u001b[0mpd\u001b[0m\u001b[0;34m.\u001b[0m\u001b[0mread_csv\u001b[0m\u001b[0;34m(\u001b[0m\u001b[0mf\u001b[0m\u001b[0;34m,\u001b[0m \u001b[0msep\u001b[0m\u001b[0;34m=\u001b[0m\u001b[0;34m'\\t'\u001b[0m\u001b[0;34m,\u001b[0m \u001b[0mindex_col\u001b[0m\u001b[0;34m=\u001b[0m\u001b[0;36m0\u001b[0m\u001b[0;34m)\u001b[0m\u001b[0;34m\u001b[0m\u001b[0;34m\u001b[0m\u001b[0m\n\u001b[0m\u001b[1;32m     37\u001b[0m     \u001b[0mgc_mat\u001b[0m \u001b[0;34m=\u001b[0m \u001b[0mbasic_utils\u001b[0m\u001b[0;34m.\u001b[0m\u001b[0mload_gc_matrix\u001b[0m\u001b[0;34m(\u001b[0m\u001b[0mf_gene\u001b[0m\u001b[0;34m,\u001b[0m \u001b[0mf_cell\u001b[0m\u001b[0;34m,\u001b[0m \u001b[0mf_mat\u001b[0m\u001b[0;34m)\u001b[0m\u001b[0;34m\u001b[0m\u001b[0;34m\u001b[0m\u001b[0m\n\u001b[1;32m     38\u001b[0m     \u001b[0mprint\u001b[0m\u001b[0;34m(\u001b[0m\u001b[0mmeta\u001b[0m\u001b[0;34m.\u001b[0m\u001b[0mshape\u001b[0m\u001b[0;34m)\u001b[0m\u001b[0;34m\u001b[0m\u001b[0;34m\u001b[0m\u001b[0m\n",
      "\u001b[0;32m/cndd2/fangming/venvs/routine/lib/python3.8/site-packages/pandas/io/parsers.py\u001b[0m in \u001b[0;36mread_csv\u001b[0;34m(filepath_or_buffer, sep, delimiter, header, names, index_col, usecols, squeeze, prefix, mangle_dupe_cols, dtype, engine, converters, true_values, false_values, skipinitialspace, skiprows, skipfooter, nrows, na_values, keep_default_na, na_filter, verbose, skip_blank_lines, parse_dates, infer_datetime_format, keep_date_col, date_parser, dayfirst, cache_dates, iterator, chunksize, compression, thousands, decimal, lineterminator, quotechar, quoting, doublequote, escapechar, comment, encoding, dialect, error_bad_lines, warn_bad_lines, delim_whitespace, low_memory, memory_map, float_precision)\u001b[0m\n\u001b[1;32m    684\u001b[0m     )\n\u001b[1;32m    685\u001b[0m \u001b[0;34m\u001b[0m\u001b[0m\n\u001b[0;32m--> 686\u001b[0;31m     \u001b[0;32mreturn\u001b[0m \u001b[0m_read\u001b[0m\u001b[0;34m(\u001b[0m\u001b[0mfilepath_or_buffer\u001b[0m\u001b[0;34m,\u001b[0m \u001b[0mkwds\u001b[0m\u001b[0;34m)\u001b[0m\u001b[0;34m\u001b[0m\u001b[0;34m\u001b[0m\u001b[0m\n\u001b[0m\u001b[1;32m    687\u001b[0m \u001b[0;34m\u001b[0m\u001b[0m\n\u001b[1;32m    688\u001b[0m \u001b[0;34m\u001b[0m\u001b[0m\n",
      "\u001b[0;32m/cndd2/fangming/venvs/routine/lib/python3.8/site-packages/pandas/io/parsers.py\u001b[0m in \u001b[0;36m_read\u001b[0;34m(filepath_or_buffer, kwds)\u001b[0m\n\u001b[1;32m    450\u001b[0m \u001b[0;34m\u001b[0m\u001b[0m\n\u001b[1;32m    451\u001b[0m     \u001b[0;31m# Create the parser.\u001b[0m\u001b[0;34m\u001b[0m\u001b[0;34m\u001b[0m\u001b[0;34m\u001b[0m\u001b[0m\n\u001b[0;32m--> 452\u001b[0;31m     \u001b[0mparser\u001b[0m \u001b[0;34m=\u001b[0m \u001b[0mTextFileReader\u001b[0m\u001b[0;34m(\u001b[0m\u001b[0mfp_or_buf\u001b[0m\u001b[0;34m,\u001b[0m \u001b[0;34m**\u001b[0m\u001b[0mkwds\u001b[0m\u001b[0;34m)\u001b[0m\u001b[0;34m\u001b[0m\u001b[0;34m\u001b[0m\u001b[0m\n\u001b[0m\u001b[1;32m    453\u001b[0m \u001b[0;34m\u001b[0m\u001b[0m\n\u001b[1;32m    454\u001b[0m     \u001b[0;32mif\u001b[0m \u001b[0mchunksize\u001b[0m \u001b[0;32mor\u001b[0m \u001b[0miterator\u001b[0m\u001b[0;34m:\u001b[0m\u001b[0;34m\u001b[0m\u001b[0;34m\u001b[0m\u001b[0m\n",
      "\u001b[0;32m/cndd2/fangming/venvs/routine/lib/python3.8/site-packages/pandas/io/parsers.py\u001b[0m in \u001b[0;36m__init__\u001b[0;34m(self, f, engine, **kwds)\u001b[0m\n\u001b[1;32m    934\u001b[0m             \u001b[0mself\u001b[0m\u001b[0;34m.\u001b[0m\u001b[0moptions\u001b[0m\u001b[0;34m[\u001b[0m\u001b[0;34m\"has_index_names\"\u001b[0m\u001b[0;34m]\u001b[0m \u001b[0;34m=\u001b[0m \u001b[0mkwds\u001b[0m\u001b[0;34m[\u001b[0m\u001b[0;34m\"has_index_names\"\u001b[0m\u001b[0;34m]\u001b[0m\u001b[0;34m\u001b[0m\u001b[0;34m\u001b[0m\u001b[0m\n\u001b[1;32m    935\u001b[0m \u001b[0;34m\u001b[0m\u001b[0m\n\u001b[0;32m--> 936\u001b[0;31m         \u001b[0mself\u001b[0m\u001b[0;34m.\u001b[0m\u001b[0m_make_engine\u001b[0m\u001b[0;34m(\u001b[0m\u001b[0mself\u001b[0m\u001b[0;34m.\u001b[0m\u001b[0mengine\u001b[0m\u001b[0;34m)\u001b[0m\u001b[0;34m\u001b[0m\u001b[0;34m\u001b[0m\u001b[0m\n\u001b[0m\u001b[1;32m    937\u001b[0m \u001b[0;34m\u001b[0m\u001b[0m\n\u001b[1;32m    938\u001b[0m     \u001b[0;32mdef\u001b[0m \u001b[0mclose\u001b[0m\u001b[0;34m(\u001b[0m\u001b[0mself\u001b[0m\u001b[0;34m)\u001b[0m\u001b[0;34m:\u001b[0m\u001b[0;34m\u001b[0m\u001b[0;34m\u001b[0m\u001b[0m\n",
      "\u001b[0;32m/cndd2/fangming/venvs/routine/lib/python3.8/site-packages/pandas/io/parsers.py\u001b[0m in \u001b[0;36m_make_engine\u001b[0;34m(self, engine)\u001b[0m\n\u001b[1;32m   1166\u001b[0m     \u001b[0;32mdef\u001b[0m \u001b[0m_make_engine\u001b[0m\u001b[0;34m(\u001b[0m\u001b[0mself\u001b[0m\u001b[0;34m,\u001b[0m \u001b[0mengine\u001b[0m\u001b[0;34m=\u001b[0m\u001b[0;34m\"c\"\u001b[0m\u001b[0;34m)\u001b[0m\u001b[0;34m:\u001b[0m\u001b[0;34m\u001b[0m\u001b[0;34m\u001b[0m\u001b[0m\n\u001b[1;32m   1167\u001b[0m         \u001b[0;32mif\u001b[0m \u001b[0mengine\u001b[0m \u001b[0;34m==\u001b[0m \u001b[0;34m\"c\"\u001b[0m\u001b[0;34m:\u001b[0m\u001b[0;34m\u001b[0m\u001b[0;34m\u001b[0m\u001b[0m\n\u001b[0;32m-> 1168\u001b[0;31m             \u001b[0mself\u001b[0m\u001b[0;34m.\u001b[0m\u001b[0m_engine\u001b[0m \u001b[0;34m=\u001b[0m \u001b[0mCParserWrapper\u001b[0m\u001b[0;34m(\u001b[0m\u001b[0mself\u001b[0m\u001b[0;34m.\u001b[0m\u001b[0mf\u001b[0m\u001b[0;34m,\u001b[0m \u001b[0;34m**\u001b[0m\u001b[0mself\u001b[0m\u001b[0;34m.\u001b[0m\u001b[0moptions\u001b[0m\u001b[0;34m)\u001b[0m\u001b[0;34m\u001b[0m\u001b[0;34m\u001b[0m\u001b[0m\n\u001b[0m\u001b[1;32m   1169\u001b[0m         \u001b[0;32melse\u001b[0m\u001b[0;34m:\u001b[0m\u001b[0;34m\u001b[0m\u001b[0;34m\u001b[0m\u001b[0m\n\u001b[1;32m   1170\u001b[0m             \u001b[0;32mif\u001b[0m \u001b[0mengine\u001b[0m \u001b[0;34m==\u001b[0m \u001b[0;34m\"python\"\u001b[0m\u001b[0;34m:\u001b[0m\u001b[0;34m\u001b[0m\u001b[0;34m\u001b[0m\u001b[0m\n",
      "\u001b[0;32m/cndd2/fangming/venvs/routine/lib/python3.8/site-packages/pandas/io/parsers.py\u001b[0m in \u001b[0;36m__init__\u001b[0;34m(self, src, **kwds)\u001b[0m\n\u001b[1;32m   1996\u001b[0m         \u001b[0mkwds\u001b[0m\u001b[0;34m[\u001b[0m\u001b[0;34m\"usecols\"\u001b[0m\u001b[0;34m]\u001b[0m \u001b[0;34m=\u001b[0m \u001b[0mself\u001b[0m\u001b[0;34m.\u001b[0m\u001b[0musecols\u001b[0m\u001b[0;34m\u001b[0m\u001b[0;34m\u001b[0m\u001b[0m\n\u001b[1;32m   1997\u001b[0m \u001b[0;34m\u001b[0m\u001b[0m\n\u001b[0;32m-> 1998\u001b[0;31m         \u001b[0mself\u001b[0m\u001b[0;34m.\u001b[0m\u001b[0m_reader\u001b[0m \u001b[0;34m=\u001b[0m \u001b[0mparsers\u001b[0m\u001b[0;34m.\u001b[0m\u001b[0mTextReader\u001b[0m\u001b[0;34m(\u001b[0m\u001b[0msrc\u001b[0m\u001b[0;34m,\u001b[0m \u001b[0;34m**\u001b[0m\u001b[0mkwds\u001b[0m\u001b[0;34m)\u001b[0m\u001b[0;34m\u001b[0m\u001b[0;34m\u001b[0m\u001b[0m\n\u001b[0m\u001b[1;32m   1999\u001b[0m         \u001b[0mself\u001b[0m\u001b[0;34m.\u001b[0m\u001b[0munnamed_cols\u001b[0m \u001b[0;34m=\u001b[0m \u001b[0mself\u001b[0m\u001b[0;34m.\u001b[0m\u001b[0m_reader\u001b[0m\u001b[0;34m.\u001b[0m\u001b[0munnamed_cols\u001b[0m\u001b[0;34m\u001b[0m\u001b[0;34m\u001b[0m\u001b[0m\n\u001b[1;32m   2000\u001b[0m \u001b[0;34m\u001b[0m\u001b[0m\n",
      "\u001b[0;32mpandas/_libs/parsers.pyx\u001b[0m in \u001b[0;36mpandas._libs.parsers.TextReader.__cinit__\u001b[0;34m()\u001b[0m\n",
      "\u001b[0;32mpandas/_libs/parsers.pyx\u001b[0m in \u001b[0;36mpandas._libs.parsers.TextReader._setup_parser_source\u001b[0;34m()\u001b[0m\n",
      "\u001b[0;31mFileNotFoundError\u001b[0m: [Errno 2] No such file or directory: '/cndd2/fangming/projects/SCF_package/branch_terra/SingleCellFusion/example_wholebrainatac/datasets/old/snatac_metadata.tsv'"
     ]
    }
   ],
   "source": [
    "ti = time.time()\n",
    "\n",
    "for mod in mods:\n",
    "    print(mod)\n",
    "    if settings[mod].mod_category == 'mc':\n",
    "        # path\n",
    "        f = os.path.join(DATA_DIR, 'old', '{}_metadata.tsv'.format(mod))\n",
    "        f_mat = os.path.join(DATA_DIR, 'old', '{}_hvfeatures.tsv'.format(mod))\n",
    "        \n",
    "        output = os.path.join(DATA_DIR, '{}.h5ad'.format(mod))\n",
    "        \n",
    "        # read \n",
    "        meta = pd.read_csv(f, sep='\\t', index_col=0)\n",
    "        mat = pd.read_csv(f_mat, sep='\\t', index_col=0)\n",
    "        print(meta.shape)\n",
    "        print(mat.shape)\n",
    "\n",
    "        # reformat\n",
    "        h5ad_mat = scf_mc_format_to_h5ad(meta, mat)\n",
    "\n",
    "        # write\n",
    "        h5ad_mat.write(output, compression='gzip')\n",
    "        \n",
    "        print(time.time()-ti)\n",
    "        continue\n",
    "        \n",
    "    # path \n",
    "    f = os.path.join(DATA_DIR, 'old', '{}_metadata.tsv'.format(mod))\n",
    "    f_gene = os.path.join(DATA_DIR, 'old', '{}_hvfeatures.gene'.format(mod))\n",
    "    f_cell = os.path.join(DATA_DIR, 'old', '{}_hvfeatures.cell'.format(mod))\n",
    "    f_mat = os.path.join(DATA_DIR, 'old', '{}_hvfeatures.npz'.format(mod))\n",
    "    \n",
    "    output = os.path.join(DATA_DIR, '{}.h5ad'.format(mod))\n",
    "    \n",
    "    # read \n",
    "    meta = pd.read_csv(f, sep='\\t', index_col=0)\n",
    "    gc_mat = basic_utils.load_gc_matrix(f_gene, f_cell, f_mat)\n",
    "    print(meta.shape)\n",
    "    print(gc_mat.data.shape)\n",
    "    \n",
    "    # reformat\n",
    "    todrop = 'transcriptome_bam_filename'\n",
    "    if todrop in meta.columns: \n",
    "        meta = meta.drop(todrop, axis=1)\n",
    "    h5ad_mat = scf_rna_format_to_h5ad(meta, gc_mat)\n",
    "    \n",
    "    # write\n",
    "    h5ad_mat.write(output, compression='gzip')\n",
    "    \n",
    "    print(time.time()-ti)"
   ]
  },
  {
   "cell_type": "code",
   "execution_count": null,
   "metadata": {},
   "outputs": [],
   "source": []
  }
 ],
 "metadata": {
  "kernelspec": {
   "display_name": "Python 3",
   "language": "python",
   "name": "python3"
  },
  "language_info": {
   "codemirror_mode": {
    "name": "ipython",
    "version": 3
   },
   "file_extension": ".py",
   "mimetype": "text/x-python",
   "name": "python",
   "nbconvert_exporter": "python",
   "pygments_lexer": "ipython3",
   "version": "3.8.1"
  }
 },
 "nbformat": 4,
 "nbformat_minor": 4
}
