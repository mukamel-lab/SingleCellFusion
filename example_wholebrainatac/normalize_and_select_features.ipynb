{
 "cells": [
  {
   "cell_type": "code",
   "execution_count": 1,
   "metadata": {},
   "outputs": [
    {
     "name": "stderr",
     "output_type": "stream",
     "text": [
      "/cndd2/fangming/venvs/routine/lib/python3.8/site-packages/anndata/core/anndata.py:17: FutureWarning: pandas.core.index is deprecated and will be removed in a future version.  The public classes are available in the top-level namespace.\n",
      "  from pandas.core.index import RangeIndex\n"
     ]
    },
    {
     "data": {
      "text/plain": [
       "<module 'preproc_utils' from '../scripts/preproc_utils.py'>"
      ]
     },
     "execution_count": 1,
     "metadata": {},
     "output_type": "execute_result"
    }
   ],
   "source": [
    "import sys\n",
    "import importlib\n",
    "sys.path.insert(0, '../scripts')\n",
    "\n",
    "import numpy as np\n",
    "from scipy import sparse\n",
    "import time\n",
    "import re\n",
    "import anndata\n",
    "\n",
    "from __global_variables import *\n",
    "from utils_new import *\n",
    "import basic_utils\n",
    "importlib.reload(basic_utils)\n",
    "import preproc_utils\n",
    "importlib.reload(preproc_utils)"
   ]
  },
  {
   "cell_type": "markdown",
   "metadata": {},
   "source": [
    "# Task\n",
    "\n",
    "- start from prepared files \n",
    "```anndata```\n",
    "- get and store hvfeatures\n",
    "```anndata```"
   ]
  },
  {
   "cell_type": "markdown",
   "metadata": {},
   "source": [
    "# Settings"
   ]
  },
  {
   "cell_type": "code",
   "execution_count": 2,
   "metadata": {},
   "outputs": [],
   "source": [
    "def get_size_in_GB(obj):\n",
    "    \"\"\"\"\"\"\n",
    "    GB = 1024**3\n",
    "    return sys.getsizeof(obj)/GB"
   ]
  },
  {
   "cell_type": "code",
   "execution_count": 3,
   "metadata": {},
   "outputs": [],
   "source": [
    "SRC_DIR = './datasets_pre'\n",
    "DST_DIR = './datasets'\n",
    "\n",
    "sys.path.insert(0, DST_DIR)\n",
    "from __init__datasets import *\n",
    "\n",
    "\n",
    "f_data_format = '{0}/{1}.h5ad'\n",
    "f_hvftr_data_format = '{0}/{1}.h5ad'\n",
    "\n"
   ]
  },
  {
   "cell_type": "code",
   "execution_count": 4,
   "metadata": {},
   "outputs": [],
   "source": [
    "mods_selected = [\n",
    "    'snatac',\n",
    "]\n",
    "\n",
    "normalization_options = {\n",
    "    'snatac': 'TPM',\n",
    "}"
   ]
  },
  {
   "cell_type": "code",
   "execution_count": 5,
   "metadata": {},
   "outputs": [
    {
     "name": "stdout",
     "output_type": "stream",
     "text": [
      "(32285,)\n"
     ]
    },
    {
     "data": {
      "text/plain": [
       "ensid\n",
       "ENSMUSG00000051951    465597\n",
       "ENSMUSG00000089699     46966\n",
       "ENSMUSG00000102331     11595\n",
       "ENSMUSG00000102343     80476\n",
       "ENSMUSG00000025900    409684\n",
       "dtype: int64"
      ]
     },
     "execution_count": 5,
     "metadata": {},
     "output_type": "execute_result"
    }
   ],
   "source": [
    "df_genes = get_gene_annotation().set_index('ensid')\n",
    "\n",
    "gene_lengths_base = (df_genes['end'] - df_genes['start'])\n",
    "print(gene_lengths_base.shape)\n",
    "gene_lengths_base.head()"
   ]
  },
  {
   "cell_type": "markdown",
   "metadata": {},
   "source": [
    "# highly variable features"
   ]
  },
  {
   "cell_type": "code",
   "execution_count": 6,
   "metadata": {},
   "outputs": [
    {
     "name": "stdout",
     "output_type": "stream",
     "text": [
      "snatac\n",
      "snatac Reading in files 7.104873657226562e-05\n",
      "snatac Preproc and get highly variable genes 1.8358633518218994\n",
      "Imputing gene lengths...\n",
      "Removing low coverage genes...\n",
      "Getting CPM..\n",
      "Getting highly variable genes and logCPM...\n",
      "Getting logTPM...\n",
      "Trim logTPM matrix...\n",
      "Number of genes: 5427\n",
      "snatac Saving to file ./datasets/snatac.h5ad\n",
      "snatac Total time used: 11.084995746612549\n"
     ]
    }
   ],
   "source": [
    "for mod in mods_selected:\n",
    "    ti = time.time()\n",
    "    print(mod)\n",
    "    \n",
    "    normalization_option = normalization_options[mod]\n",
    "    # read data matrix\n",
    "    if normalization_option == 'MC':\n",
    "        f_data = f_data_format.format(SRC_DIR, mod)\n",
    "        \n",
    "        # read in files\n",
    "        print(mod, \"Reading in files {}\".format(time.time()-ti))\n",
    "        gxc_raw = snmcseq_utils.load_gc_matrix_methylation(f_data_gene, f_data_cell, f_data_mc, f_data_c)\n",
    "        print(gxc_raw.data['mc'].shape, gxc_raw.data['c'].shape)\n",
    "        print(time.time()-ti)\n",
    "        \n",
    "        # output file\n",
    "        f_hvftr_data_methylation = f_hvftr_format.format(DST_DIR, mod, 'tsv') \n",
    "        print(time.time()-ti)\n",
    "        \n",
    "        # check meta cells agree with gxc cells\n",
    "        assert np.all(meta.index.values == gxc_raw.cell)\n",
    "        # check genes are uniq \n",
    "        assert len(gxc_raw.gene) == len(np.unique(gxc_raw.gene)) \n",
    "        # do\n",
    "        gxc_hvftr = preproc_utils.preproc_methylation(\n",
    "                                                      gxc_raw,\n",
    "                                                      meta,\n",
    "                                                      global_value_col=settings[mod].global_mean, \n",
    "                                                      base_call_cutoff=20, \n",
    "                                                      sufficient_coverage_fraction=0.95,\n",
    "                                                      hv_percentile=30,\n",
    "                                                      n_qcut=10,\n",
    "                                                      )\n",
    "        # save\n",
    "        print(mod, \"Saving to files {}\".format(time.time()-ti))\n",
    "#         gxc_hvftr.to_csv(f_hvftr_data_methylation, sep=\"\\t\", header=True, index=True, na_rep='NA')\n",
    "        h5ad_mat_hvftr.write(f_hvftr_data, compression='gzip')\n",
    "        \n",
    "    else:\n",
    "        # input, output files\n",
    "        f_data = f_data_format.format(SRC_DIR, mod,) \n",
    "        f_hvftr_data = f_hvftr_data_format.format(DST_DIR, mod) \n",
    "        \n",
    "        # read in files\n",
    "        print(mod, \"Reading in files {}\".format(time.time()-ti))\n",
    "        h5ad_mat = anndata.read_h5ad(f_data)\n",
    "        gid_col, cid_col = 'ensid', ''\n",
    "        meta, gxc_raw = basic_utils.h5ad_to_scf_rna_format(h5ad_mat, gid_col, cid_col)\n",
    "        \n",
    "        # check meta cells agree with gxc cells\n",
    "        assert np.all(meta.index.values == gxc_raw.cell)\n",
    "        # check genes are uniq \n",
    "        assert len(gxc_raw.gene) == len(np.unique(gxc_raw.gene)) \n",
    "    \n",
    "        # get hvftrs\n",
    "        print(mod, \"Preproc and get highly variable genes {}\".format(time.time()-ti))\n",
    "        if normalization_option == 'CPM':\n",
    "            gxc_hvftr = preproc_utils.preproc_rna_cpm_based(\n",
    "                                             gxc_raw, \n",
    "                                             sufficient_cell_coverage=0.01, \n",
    "                                             hv_percentile=30, hv_ncut=10)\n",
    "        elif normalization_option == 'TPM':\n",
    "            gene_lengths = gene_lengths_base.reindex(gxc_raw.gene)\n",
    "            gxc_hvftr = preproc_utils.preproc_rna_tpm_based(\n",
    "                                             gxc_raw, gene_lengths, impute_gene_lengths=True, \n",
    "                                             sufficient_cell_coverage=0.01, \n",
    "                                             hv_percentile=30, hv_ncut=10)\n",
    "    \n",
    "        # save\n",
    "        print(mod, \"Saving to file {}\".format(f_hvftr_data, time.time()-ti))\n",
    "        h5ad_mat_hvftr = basic_utils.scf_rna_format_to_h5ad(meta, gxc_hvftr)\n",
    "        h5ad_mat_hvftr.write(f_hvftr_data, compression='gzip')\n",
    "    \n",
    "    print(mod, \"Total time used: {}\".format(time.time()-ti))\n",
    "    "
   ]
  },
  {
   "cell_type": "markdown",
   "metadata": {},
   "source": [
    "## Check highly-variable genes"
   ]
  },
  {
   "cell_type": "code",
   "execution_count": 7,
   "metadata": {},
   "outputs": [],
   "source": [
    "# for mod in mods_selected:\n",
    "#     print(mod)\n",
    "#     if settings[mod].mod_category == 'mc':\n",
    "#         f_hvftr_data = f_hvftr_format.format(SRC_DIR, mod, 'tsv') \n",
    "#         gxc_hvftr = pd.read_csv(f_hvftr_data, sep=\"\\t\", index_col=0)\n",
    "#         print(gxc_hvftr.index.values)\n",
    "#         print(gxc_hvftr.columns.values)\n",
    "#         print(gxc_hvftr.shape)\n",
    "#         has_nan = np.isnan(gxc_hvftr.values).any()\n",
    "#         print(\"Contains NaN? {}\".format(has_nan))\n",
    "        \n",
    "#         continue\n",
    "        \n",
    "#     f_hvftr_data = f_hvftr_format.format(SRC_DIR, mod, 'npz') \n",
    "#     f_hvftr_gene = f_hvftr_format.format(SRC_DIR, mod, 'gene') \n",
    "#     f_hvftr_cell = f_hvftr_format.format(SRC_DIR, mod, 'cell') \n",
    "#     gxc_hvftr = snmcseq_utils.load_gc_matrix(f_hvftr_gene, f_hvftr_cell, f_hvftr_data)\n",
    "#     print(gxc_hvftr.gene)\n",
    "#     print(gxc_hvftr.cell)\n",
    "#     print(len(gxc_hvftr.gene), len(gxc_hvftr.cell), gxc_hvftr.data.shape)\n",
    "#     has_nan = np.isnan(gxc_hvftr.data.data).any()\n",
    "#     print(\"Contains NaN? {}\".format(has_nan))\n",
    "# #     break"
   ]
  }
 ],
 "metadata": {
  "kernelspec": {
   "display_name": "Python 3",
   "language": "python",
   "name": "python3"
  },
  "language_info": {
   "codemirror_mode": {
    "name": "ipython",
    "version": 3
   },
   "file_extension": ".py",
   "mimetype": "text/x-python",
   "name": "python",
   "nbconvert_exporter": "python",
   "pygments_lexer": "ipython3",
   "version": "3.8.1"
  }
 },
 "nbformat": 4,
 "nbformat_minor": 4
}
