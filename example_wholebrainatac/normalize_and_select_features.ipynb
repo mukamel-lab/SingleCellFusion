{
 "cells": [
  {
   "cell_type": "code",
   "execution_count": 3,
   "metadata": {},
   "outputs": [
    {
     "data": {
      "text/plain": [
       "<module 'preproc_utils' from '../scripts/preproc_utils.py'>"
      ]
     },
     "execution_count": 3,
     "metadata": {},
     "output_type": "execute_result"
    }
   ],
   "source": [
    "import sys\n",
    "import importlib\n",
    "sys.path.insert(0, '../scripts')\n",
    "\n",
    "import numpy as np\n",
    "from scipy import sparse\n",
    "import time\n",
    "import re\n",
    "import anndata\n",
    "\n",
    "from __global_variables import *\n",
    "from utils_new import *\n",
    "import basic_utils\n",
    "importlib.reload(basic_utils)\n",
    "import preproc_utils\n",
    "importlib.reload(preproc_utils)"
   ]
  },
  {
   "cell_type": "markdown",
   "metadata": {},
   "source": [
    "# Task\n",
    "- start from prepared files \n",
    "```anndata```\n",
    "- get and store hvfeatures\n",
    "```anndata```"
   ]
  },
  {
   "cell_type": "markdown",
   "metadata": {},
   "source": [
    "# Settings"
   ]
  },
  {
   "cell_type": "code",
   "execution_count": 5,
   "metadata": {},
   "outputs": [],
   "source": [
    "SRC_DIR = './datasets_pre'\n",
    "DST_DIR = './datasets'\n",
    "\n",
    "sys.path.insert(0, DST_DIR)\n",
    "# from __init__datasets import *\n",
    "\n",
    "\n",
    "f_data_format = '{0}/{1}.h5ad'\n",
    "f_hvftr_data_format = '{0}/{1}.h5ad'\n",
    "\n"
   ]
  },
  {
   "cell_type": "code",
   "execution_count": 6,
   "metadata": {},
   "outputs": [],
   "source": [
    "mods_selected = [\n",
    "    'snatac',\n",
    "]\n",
    "normalization_options = {\n",
    "    'snatac': 'TPM',\n",
    "}"
   ]
  },
  {
   "cell_type": "code",
   "execution_count": 7,
   "metadata": {},
   "outputs": [
    {
     "name": "stdout",
     "output_type": "stream",
     "text": [
      "(32285,)\n"
     ]
    },
    {
     "data": {
      "text/plain": [
       "ensid\n",
       "ENSMUSG00000051951    465597\n",
       "ENSMUSG00000089699     46966\n",
       "ENSMUSG00000102331     11595\n",
       "ENSMUSG00000102343     80476\n",
       "ENSMUSG00000025900    409684\n",
       "dtype: int64"
      ]
     },
     "execution_count": 7,
     "metadata": {},
     "output_type": "execute_result"
    }
   ],
   "source": [
    "df_genes = get_gene_annotation().set_index('ensid')\n",
    "\n",
    "gene_lengths_base = (df_genes['end'] - df_genes['start'])\n",
    "print(gene_lengths_base.shape)\n",
    "gene_lengths_base.head()"
   ]
  },
  {
   "cell_type": "markdown",
   "metadata": {},
   "source": [
    "# highly variable features"
   ]
  },
  {
   "cell_type": "code",
   "execution_count": 8,
   "metadata": {},
   "outputs": [
    {
     "name": "stdout",
     "output_type": "stream",
     "text": [
      "snatac\n",
      "snatac Reading in files 0.00018596649169921875\n"
     ]
    },
    {
     "ename": "OSError",
     "evalue": "Unable to open file (unable to open file: name = './datasets_pre/snatac.h5ad', errno = 2, error message = 'No such file or directory', flags = 0, o_flags = 0)",
     "output_type": "error",
     "traceback": [
      "\u001b[0;31m---------------------------------------------------------------------------\u001b[0m",
      "\u001b[0;31mOSError\u001b[0m                                   Traceback (most recent call last)",
      "\u001b[0;32m<ipython-input-8-ed8f48407ed6>\u001b[0m in \u001b[0;36m<module>\u001b[0;34m\u001b[0m\n\u001b[1;32m     44\u001b[0m         \u001b[0;31m# read in files\u001b[0m\u001b[0;34m\u001b[0m\u001b[0;34m\u001b[0m\u001b[0;34m\u001b[0m\u001b[0m\n\u001b[1;32m     45\u001b[0m         \u001b[0mprint\u001b[0m\u001b[0;34m(\u001b[0m\u001b[0mmod\u001b[0m\u001b[0;34m,\u001b[0m \u001b[0;34m\"Reading in files {}\"\u001b[0m\u001b[0;34m.\u001b[0m\u001b[0mformat\u001b[0m\u001b[0;34m(\u001b[0m\u001b[0mtime\u001b[0m\u001b[0;34m.\u001b[0m\u001b[0mtime\u001b[0m\u001b[0;34m(\u001b[0m\u001b[0;34m)\u001b[0m\u001b[0;34m-\u001b[0m\u001b[0mti\u001b[0m\u001b[0;34m)\u001b[0m\u001b[0;34m)\u001b[0m\u001b[0;34m\u001b[0m\u001b[0;34m\u001b[0m\u001b[0m\n\u001b[0;32m---> 46\u001b[0;31m         \u001b[0mh5ad_mat\u001b[0m \u001b[0;34m=\u001b[0m \u001b[0manndata\u001b[0m\u001b[0;34m.\u001b[0m\u001b[0mread_h5ad\u001b[0m\u001b[0;34m(\u001b[0m\u001b[0mf_data\u001b[0m\u001b[0;34m)\u001b[0m\u001b[0;34m\u001b[0m\u001b[0;34m\u001b[0m\u001b[0m\n\u001b[0m\u001b[1;32m     47\u001b[0m         \u001b[0mgid_col\u001b[0m\u001b[0;34m,\u001b[0m \u001b[0mcid_col\u001b[0m \u001b[0;34m=\u001b[0m \u001b[0;34m'ensid'\u001b[0m\u001b[0;34m,\u001b[0m \u001b[0;34m''\u001b[0m\u001b[0;34m\u001b[0m\u001b[0;34m\u001b[0m\u001b[0m\n\u001b[1;32m     48\u001b[0m         \u001b[0mmeta\u001b[0m\u001b[0;34m,\u001b[0m \u001b[0mgxc_raw\u001b[0m \u001b[0;34m=\u001b[0m \u001b[0mbasic_utils\u001b[0m\u001b[0;34m.\u001b[0m\u001b[0mh5ad_to_scf_rna_format\u001b[0m\u001b[0;34m(\u001b[0m\u001b[0mh5ad_mat\u001b[0m\u001b[0;34m,\u001b[0m \u001b[0mgid_col\u001b[0m\u001b[0;34m,\u001b[0m \u001b[0mcid_col\u001b[0m\u001b[0;34m)\u001b[0m\u001b[0;34m\u001b[0m\u001b[0;34m\u001b[0m\u001b[0m\n",
      "\u001b[0;32m/cndd2/fangming/venvs/routine/lib/python3.8/site-packages/anndata/readwrite/read.py\u001b[0m in \u001b[0;36mread_h5ad\u001b[0;34m(filename, backed, chunk_size)\u001b[0m\n\u001b[1;32m    445\u001b[0m     \u001b[0;32melse\u001b[0m\u001b[0;34m:\u001b[0m\u001b[0;34m\u001b[0m\u001b[0;34m\u001b[0m\u001b[0m\n\u001b[1;32m    446\u001b[0m         \u001b[0;31m# load everything into memory\u001b[0m\u001b[0;34m\u001b[0m\u001b[0;34m\u001b[0m\u001b[0;34m\u001b[0m\u001b[0m\n\u001b[0;32m--> 447\u001b[0;31m         \u001b[0mconstructor_args\u001b[0m \u001b[0;34m=\u001b[0m \u001b[0m_read_args_from_h5ad\u001b[0m\u001b[0;34m(\u001b[0m\u001b[0mfilename\u001b[0m\u001b[0;34m=\u001b[0m\u001b[0mfilename\u001b[0m\u001b[0;34m,\u001b[0m \u001b[0mchunk_size\u001b[0m\u001b[0;34m=\u001b[0m\u001b[0mchunk_size\u001b[0m\u001b[0;34m)\u001b[0m\u001b[0;34m\u001b[0m\u001b[0;34m\u001b[0m\u001b[0m\n\u001b[0m\u001b[1;32m    448\u001b[0m         \u001b[0mX\u001b[0m \u001b[0;34m=\u001b[0m \u001b[0mconstructor_args\u001b[0m\u001b[0;34m[\u001b[0m\u001b[0;36m0\u001b[0m\u001b[0;34m]\u001b[0m\u001b[0;34m\u001b[0m\u001b[0;34m\u001b[0m\u001b[0m\n\u001b[1;32m    449\u001b[0m         \u001b[0mdtype\u001b[0m \u001b[0;34m=\u001b[0m \u001b[0;32mNone\u001b[0m\u001b[0;34m\u001b[0m\u001b[0;34m\u001b[0m\u001b[0m\n",
      "\u001b[0;32m/cndd2/fangming/venvs/routine/lib/python3.8/site-packages/anndata/readwrite/read.py\u001b[0m in \u001b[0;36m_read_args_from_h5ad\u001b[0;34m(adata, filename, mode, chunk_size)\u001b[0m\n\u001b[1;32m    479\u001b[0m         \u001b[0mf\u001b[0m \u001b[0;34m=\u001b[0m \u001b[0madata\u001b[0m\u001b[0;34m.\u001b[0m\u001b[0mfile\u001b[0m\u001b[0;34m.\u001b[0m\u001b[0m_file\u001b[0m\u001b[0;34m\u001b[0m\u001b[0;34m\u001b[0m\u001b[0m\n\u001b[1;32m    480\u001b[0m     \u001b[0;32melse\u001b[0m\u001b[0;34m:\u001b[0m\u001b[0;34m\u001b[0m\u001b[0;34m\u001b[0m\u001b[0m\n\u001b[0;32m--> 481\u001b[0;31m         \u001b[0mf\u001b[0m \u001b[0;34m=\u001b[0m \u001b[0mh5py\u001b[0m\u001b[0;34m.\u001b[0m\u001b[0mFile\u001b[0m\u001b[0;34m(\u001b[0m\u001b[0mfilename\u001b[0m\u001b[0;34m,\u001b[0m \u001b[0;34m'r'\u001b[0m\u001b[0;34m)\u001b[0m\u001b[0;34m\u001b[0m\u001b[0;34m\u001b[0m\u001b[0m\n\u001b[0m\u001b[1;32m    482\u001b[0m     \u001b[0;32mfor\u001b[0m \u001b[0mkey\u001b[0m \u001b[0;32min\u001b[0m \u001b[0mf\u001b[0m\u001b[0;34m.\u001b[0m\u001b[0mkeys\u001b[0m\u001b[0;34m(\u001b[0m\u001b[0;34m)\u001b[0m\u001b[0;34m:\u001b[0m\u001b[0;34m\u001b[0m\u001b[0;34m\u001b[0m\u001b[0m\n\u001b[1;32m    483\u001b[0m         \u001b[0;32mif\u001b[0m \u001b[0mbacked\u001b[0m \u001b[0;32mand\u001b[0m \u001b[0mkey\u001b[0m \u001b[0;32min\u001b[0m \u001b[0mAnnData\u001b[0m\u001b[0;34m.\u001b[0m\u001b[0m_BACKED_ATTRS\u001b[0m\u001b[0;34m:\u001b[0m\u001b[0;34m\u001b[0m\u001b[0;34m\u001b[0m\u001b[0m\n",
      "\u001b[0;32m/cndd2/fangming/venvs/routine/lib/python3.8/site-packages/anndata/h5py/h5sparse.py\u001b[0m in \u001b[0;36m__init__\u001b[0;34m(self, name, mode, driver, libver, userblock_size, swmr, force_dense, **kwds)\u001b[0m\n\u001b[1;32m    153\u001b[0m         \u001b[0;34m**\u001b[0m\u001b[0mkwds\u001b[0m  \u001b[0;31m# Python 3.5 can’t handle trailing commas here\u001b[0m\u001b[0;34m\u001b[0m\u001b[0;34m\u001b[0m\u001b[0m\n\u001b[1;32m    154\u001b[0m     ):\n\u001b[0;32m--> 155\u001b[0;31m         self.h5f = h5py.File(\n\u001b[0m\u001b[1;32m    156\u001b[0m             \u001b[0mname\u001b[0m\u001b[0;34m,\u001b[0m\u001b[0;34m\u001b[0m\u001b[0;34m\u001b[0m\u001b[0m\n\u001b[1;32m    157\u001b[0m             \u001b[0mmode\u001b[0m\u001b[0;34m=\u001b[0m\u001b[0mmode\u001b[0m\u001b[0;34m,\u001b[0m\u001b[0;34m\u001b[0m\u001b[0;34m\u001b[0m\u001b[0m\n",
      "\u001b[0;32m/cndd2/fangming/venvs/routine/lib/python3.8/site-packages/h5py/_hl/files.py\u001b[0m in \u001b[0;36m__init__\u001b[0;34m(self, name, mode, driver, libver, userblock_size, swmr, rdcc_nslots, rdcc_nbytes, rdcc_w0, track_order, **kwds)\u001b[0m\n\u001b[1;32m    404\u001b[0m             \u001b[0;32mwith\u001b[0m \u001b[0mphil\u001b[0m\u001b[0;34m:\u001b[0m\u001b[0;34m\u001b[0m\u001b[0;34m\u001b[0m\u001b[0m\n\u001b[1;32m    405\u001b[0m                 \u001b[0mfapl\u001b[0m \u001b[0;34m=\u001b[0m \u001b[0mmake_fapl\u001b[0m\u001b[0;34m(\u001b[0m\u001b[0mdriver\u001b[0m\u001b[0;34m,\u001b[0m \u001b[0mlibver\u001b[0m\u001b[0;34m,\u001b[0m \u001b[0mrdcc_nslots\u001b[0m\u001b[0;34m,\u001b[0m \u001b[0mrdcc_nbytes\u001b[0m\u001b[0;34m,\u001b[0m \u001b[0mrdcc_w0\u001b[0m\u001b[0;34m,\u001b[0m \u001b[0;34m**\u001b[0m\u001b[0mkwds\u001b[0m\u001b[0;34m)\u001b[0m\u001b[0;34m\u001b[0m\u001b[0;34m\u001b[0m\u001b[0m\n\u001b[0;32m--> 406\u001b[0;31m                 fid = make_fid(name, mode, userblock_size,\n\u001b[0m\u001b[1;32m    407\u001b[0m                                \u001b[0mfapl\u001b[0m\u001b[0;34m,\u001b[0m \u001b[0mfcpl\u001b[0m\u001b[0;34m=\u001b[0m\u001b[0mmake_fcpl\u001b[0m\u001b[0;34m(\u001b[0m\u001b[0mtrack_order\u001b[0m\u001b[0;34m=\u001b[0m\u001b[0mtrack_order\u001b[0m\u001b[0;34m)\u001b[0m\u001b[0;34m,\u001b[0m\u001b[0;34m\u001b[0m\u001b[0;34m\u001b[0m\u001b[0m\n\u001b[1;32m    408\u001b[0m                                swmr=swmr)\n",
      "\u001b[0;32m/cndd2/fangming/venvs/routine/lib/python3.8/site-packages/h5py/_hl/files.py\u001b[0m in \u001b[0;36mmake_fid\u001b[0;34m(name, mode, userblock_size, fapl, fcpl, swmr)\u001b[0m\n\u001b[1;32m    171\u001b[0m         \u001b[0;32mif\u001b[0m \u001b[0mswmr\u001b[0m \u001b[0;32mand\u001b[0m \u001b[0mswmr_support\u001b[0m\u001b[0;34m:\u001b[0m\u001b[0;34m\u001b[0m\u001b[0;34m\u001b[0m\u001b[0m\n\u001b[1;32m    172\u001b[0m             \u001b[0mflags\u001b[0m \u001b[0;34m|=\u001b[0m \u001b[0mh5f\u001b[0m\u001b[0;34m.\u001b[0m\u001b[0mACC_SWMR_READ\u001b[0m\u001b[0;34m\u001b[0m\u001b[0;34m\u001b[0m\u001b[0m\n\u001b[0;32m--> 173\u001b[0;31m         \u001b[0mfid\u001b[0m \u001b[0;34m=\u001b[0m \u001b[0mh5f\u001b[0m\u001b[0;34m.\u001b[0m\u001b[0mopen\u001b[0m\u001b[0;34m(\u001b[0m\u001b[0mname\u001b[0m\u001b[0;34m,\u001b[0m \u001b[0mflags\u001b[0m\u001b[0;34m,\u001b[0m \u001b[0mfapl\u001b[0m\u001b[0;34m=\u001b[0m\u001b[0mfapl\u001b[0m\u001b[0;34m)\u001b[0m\u001b[0;34m\u001b[0m\u001b[0;34m\u001b[0m\u001b[0m\n\u001b[0m\u001b[1;32m    174\u001b[0m     \u001b[0;32melif\u001b[0m \u001b[0mmode\u001b[0m \u001b[0;34m==\u001b[0m \u001b[0;34m'r+'\u001b[0m\u001b[0;34m:\u001b[0m\u001b[0;34m\u001b[0m\u001b[0;34m\u001b[0m\u001b[0m\n\u001b[1;32m    175\u001b[0m         \u001b[0mfid\u001b[0m \u001b[0;34m=\u001b[0m \u001b[0mh5f\u001b[0m\u001b[0;34m.\u001b[0m\u001b[0mopen\u001b[0m\u001b[0;34m(\u001b[0m\u001b[0mname\u001b[0m\u001b[0;34m,\u001b[0m \u001b[0mh5f\u001b[0m\u001b[0;34m.\u001b[0m\u001b[0mACC_RDWR\u001b[0m\u001b[0;34m,\u001b[0m \u001b[0mfapl\u001b[0m\u001b[0;34m=\u001b[0m\u001b[0mfapl\u001b[0m\u001b[0;34m)\u001b[0m\u001b[0;34m\u001b[0m\u001b[0;34m\u001b[0m\u001b[0m\n",
      "\u001b[0;32mh5py/_objects.pyx\u001b[0m in \u001b[0;36mh5py._objects.with_phil.wrapper\u001b[0;34m()\u001b[0m\n",
      "\u001b[0;32mh5py/_objects.pyx\u001b[0m in \u001b[0;36mh5py._objects.with_phil.wrapper\u001b[0;34m()\u001b[0m\n",
      "\u001b[0;32mh5py/h5f.pyx\u001b[0m in \u001b[0;36mh5py.h5f.open\u001b[0;34m()\u001b[0m\n",
      "\u001b[0;31mOSError\u001b[0m: Unable to open file (unable to open file: name = './datasets_pre/snatac.h5ad', errno = 2, error message = 'No such file or directory', flags = 0, o_flags = 0)"
     ]
    }
   ],
   "source": [
    "for mod in mods_selected:\n",
    "    ti = time.time()\n",
    "    print(mod)\n",
    "    \n",
    "    normalization_option = normalization_options[mod]\n",
    "    # read data matrix\n",
    "    if normalization_option == 'MC':\n",
    "        f_data = f_data_format.format(SRC_DIR, mod)\n",
    "        \n",
    "        # read in files\n",
    "        print(mod, \"Reading in files {}\".format(time.time()-ti))\n",
    "        gxc_raw = snmcseq_utils.load_gc_matrix_methylation(f_data_gene, f_data_cell, f_data_mc, f_data_c)\n",
    "        print(gxc_raw.data['mc'].shape, gxc_raw.data['c'].shape)\n",
    "        print(time.time()-ti)\n",
    "        \n",
    "        # output file\n",
    "        f_hvftr_data_methylation = f_hvftr_format.format(DST_DIR, mod, 'tsv') \n",
    "        print(time.time()-ti)\n",
    "        \n",
    "        # check meta cells agree with gxc cells\n",
    "        assert np.all(meta.index.values == gxc_raw.cell)\n",
    "        # check genes are uniq \n",
    "        assert len(gxc_raw.gene) == len(np.unique(gxc_raw.gene)) \n",
    "        # do\n",
    "        gxc_hvftr = preproc_utils.preproc_methylation(\n",
    "                                                      gxc_raw,\n",
    "                                                      meta,\n",
    "                                                      global_value_col=settings[mod].global_mean, \n",
    "                                                      base_call_cutoff=20, \n",
    "                                                      sufficient_coverage_fraction=0.95,\n",
    "                                                      hv_percentile=30,\n",
    "                                                      n_qcut=10,\n",
    "                                                      )\n",
    "        # save\n",
    "        print(mod, \"Saving to files {}\".format(time.time()-ti))\n",
    "#         gxc_hvftr.to_csv(f_hvftr_data_methylation, sep=\"\\t\", header=True, index=True, na_rep='NA')\n",
    "        h5ad_mat_hvftr.write(f_hvftr_data, compression='gzip')\n",
    "        \n",
    "    else:\n",
    "        # input, output files\n",
    "        f_data = f_data_format.format(SRC_DIR, mod,) \n",
    "        f_hvftr_data = f_hvftr_data_format.format(DST_DIR, mod) \n",
    "        \n",
    "        # read in files\n",
    "        print(mod, \"Reading in files {}\".format(time.time()-ti))\n",
    "        h5ad_mat = anndata.read_h5ad(f_data)\n",
    "        gid_col, cid_col = 'ensid', ''\n",
    "        meta, gxc_raw = basic_utils.h5ad_to_scf_rna_format(h5ad_mat, gid_col, cid_col)\n",
    "        \n",
    "        # check meta cells agree with gxc cells\n",
    "        assert np.all(meta.index.values == gxc_raw.cell)\n",
    "        # check genes are uniq \n",
    "        assert len(gxc_raw.gene) == len(np.unique(gxc_raw.gene)) \n",
    "    \n",
    "        # get hvftrs\n",
    "        print(mod, \"Preproc and get highly variable genes {}\".format(time.time()-ti))\n",
    "        if normalization_option == 'CPM':\n",
    "            gxc_hvftr = preproc_utils.preproc_rna_cpm_based(\n",
    "                                             gxc_raw, \n",
    "                                             sufficient_cell_coverage=0.01, \n",
    "                                             hv_percentile=30, hv_ncut=10)\n",
    "        elif normalization_option == 'TPM':\n",
    "            gene_lengths = gene_lengths_base.reindex(gxc_raw.gene)\n",
    "            gxc_hvftr = preproc_utils.preproc_rna_tpm_based(\n",
    "                                             gxc_raw, gene_lengths, impute_gene_lengths=True, \n",
    "                                             sufficient_cell_coverage=0.01, \n",
    "                                             hv_percentile=30, hv_ncut=10)\n",
    "    \n",
    "        # save\n",
    "        print(mod, \"Saving to file {}\".format(f_hvftr_data, time.time()-ti))\n",
    "        h5ad_mat_hvftr = basic_utils.scf_rna_format_to_h5ad(meta, gxc_hvftr)\n",
    "        h5ad_mat_hvftr.write(f_hvftr_data, compression='gzip')\n",
    "    \n",
    "    print(mod, \"Total time used: {}\".format(time.time()-ti))\n",
    "    break\n",
    "    "
   ]
  },
  {
   "cell_type": "markdown",
   "metadata": {},
   "source": [
    "## Check highly-variable genes"
   ]
  },
  {
   "cell_type": "code",
   "execution_count": 7,
   "metadata": {},
   "outputs": [],
   "source": [
    "# for mod in mods_selected:\n",
    "#     print(mod)\n",
    "#     if settings[mod].mod_category == 'mc':\n",
    "#         f_hvftr_data = f_hvftr_format.format(SRC_DIR, mod, 'tsv') \n",
    "#         gxc_hvftr = pd.read_csv(f_hvftr_data, sep=\"\\t\", index_col=0)\n",
    "#         print(gxc_hvftr.index.values)\n",
    "#         print(gxc_hvftr.columns.values)\n",
    "#         print(gxc_hvftr.shape)\n",
    "#         has_nan = np.isnan(gxc_hvftr.values).any()\n",
    "#         print(\"Contains NaN? {}\".format(has_nan))\n",
    "        \n",
    "#         continue\n",
    "        \n",
    "#     f_hvftr_data = f_hvftr_format.format(SRC_DIR, mod, 'npz') \n",
    "#     f_hvftr_gene = f_hvftr_format.format(SRC_DIR, mod, 'gene') \n",
    "#     f_hvftr_cell = f_hvftr_format.format(SRC_DIR, mod, 'cell') \n",
    "#     gxc_hvftr = snmcseq_utils.load_gc_matrix(f_hvftr_gene, f_hvftr_cell, f_hvftr_data)\n",
    "#     print(gxc_hvftr.gene)\n",
    "#     print(gxc_hvftr.cell)\n",
    "#     print(len(gxc_hvftr.gene), len(gxc_hvftr.cell), gxc_hvftr.data.shape)\n",
    "#     has_nan = np.isnan(gxc_hvftr.data.data).any()\n",
    "#     print(\"Contains NaN? {}\".format(has_nan))\n",
    "# #     break"
   ]
  }
 ],
 "metadata": {
  "kernelspec": {
   "display_name": "Python 3",
   "language": "python",
   "name": "python3"
  },
  "language_info": {
   "codemirror_mode": {
    "name": "ipython",
    "version": 3
   },
   "file_extension": ".py",
   "mimetype": "text/x-python",
   "name": "python",
   "nbconvert_exporter": "python",
   "pygments_lexer": "ipython3",
   "version": "3.8.1"
  }
 },
 "nbformat": 4,
 "nbformat_minor": 4
}
