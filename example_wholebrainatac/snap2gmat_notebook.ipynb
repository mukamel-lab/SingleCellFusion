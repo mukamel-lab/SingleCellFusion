{
 "cells": [
  {
   "cell_type": "code",
   "execution_count": 1,
   "metadata": {},
   "outputs": [
    {
     "name": "stderr",
     "output_type": "stream",
     "text": [
      "/cndd2/fangming/venvs/routine/lib/python3.8/site-packages/anndata/core/anndata.py:17: FutureWarning: pandas.core.index is deprecated and will be removed in a future version.  The public classes are available in the top-level namespace.\n",
      "  from pandas.core.index import RangeIndex\n"
     ]
    }
   ],
   "source": [
    "# Eran Mukamel, February 2021\n",
    "# \n",
    "# Add a gene-by-cell matrix (gmat) to a .snap file. This should be equivalent to:  \n",
    "#   snaptools snap-add-gmat\n",
    "#\n",
    "# Usage: snap2gmat <snap-file> <genes-file>\n",
    "#\n",
    "# Inputs:\n",
    "#  snap_file = path to .snap file\n",
    "#  genes_file = path to bed file of genes \n",
    "#\n",
    "# Output\n",
    "#  Saves a file <snap-file>.gmat.npz\n",
    "\n",
    "import pandas as pd\n",
    "import numpy as np\n",
    "import re,os,sys\n",
    "import h5py,time\n",
    "from scipy.sparse import coo_matrix\n",
    "\n",
    "import anndata as ad\n",
    "from __global_variables import *\n",
    "from utils_new import *"
   ]
  },
  {
   "cell_type": "code",
   "execution_count": 2,
   "metadata": {},
   "outputs": [],
   "source": [
    "# My attempt at a faster implementation of snaptools snap-add-gmat\n",
    "def assign_genes(filename,\n",
    "                 genes,\n",
    "                 istart=None,\n",
    "                 istop=None,\n",
    "                 verbose=False):\n",
    "    from scipy.sparse import coo_matrix\n",
    "    t0=time.time()\n",
    "    with h5py.File(filename,'r') as file:\n",
    "        if istart is None:\n",
    "            istart=0\n",
    "        if istop is None:\n",
    "            istop=file['FM/fragStart'].shape[0]\n",
    "\n",
    "        # Assign every fragment to a gene. NOTE: This will assign every fragment to ONE gene, even if it overlaps multiple genes\n",
    "        fragChrom = file['FM/fragChrom'][istart:istop].astype(str)\n",
    "        fragStart = file['FM/fragStart'][istart:istop]\n",
    "        fragEnd = fragStart + file['FM/fragLen'][istart:istop]\n",
    "\n",
    "        # Figure out the barcode index for each fragment\n",
    "        bc_pos = file['FM/barcodePos'][:]-1\n",
    "        bc_pos = np.append(bc_pos,np.inf)\n",
    "        fragBC = np.digitize(istart+np.arange(len(fragChrom)), bc_pos)\n",
    "        nbc = file['FM/fragChrom'].shape[0]\n",
    "#         # TEMPORARY: Create smaller dataset for testing    \n",
    "#         nbc = min(nbc, 100000)\n",
    "    if verbose:\n",
    "        print('Loaded data; t=%3.3f s' % (time.time()-t0))\n",
    "    \n",
    "    t0=time.time()\n",
    "    fragGene = np.empty(len(fragEnd))\n",
    "    i,j = np.array([],dtype=int),np.array([],dtype=int)\n",
    "    chroms = genes['chr'].unique()\n",
    "    for chrom in chroms:\n",
    "        gu = genes[genes['chr']==chrom]\n",
    "        fu = fragChrom==chrom\n",
    "        if fu.any():\n",
    "            fstart = fragStart[fu]\n",
    "            fend = fragEnd[fu]\n",
    "            fgene = fragGene[fu]\n",
    "            fbc = fragBC[fu]\n",
    "            \n",
    "            for gi in range(gu.shape[0]):\n",
    "                overlap_barcodes = fbc[(fend>gu.iloc[gi]['start']) & (fstart<gu.iloc[gi]['end'])]\n",
    "                if len(overlap_barcodes)>0:\n",
    "                    i=np.append(i,[gu.index[gi]]*len(overlap_barcodes))\n",
    "                    j=np.append(j,overlap_barcodes)\n",
    "        if verbose:\n",
    "            print('%s, %d genes, %d fragments, %d total overlaps, t=%3.3fs' % (chrom,gu.shape[0],fu.sum(),len(i),time.time()-t0))\n",
    "    ngenes = genes.shape[0]\n",
    "    gmat = coo_matrix((np.ones(len(i)), (i,j-1)), shape=(ngenes,nbc))\n",
    "    return gmat"
   ]
  },
  {
   "cell_type": "code",
   "execution_count": 3,
   "metadata": {},
   "outputs": [
    {
     "name": "stdout",
     "output_type": "stream",
     "text": [
      "(32285, 5)\n"
     ]
    }
   ],
   "source": [
    "# gene annotation file\n",
    "genes = get_gene_annotation()\n",
    "print(genes.shape)"
   ]
  },
  {
   "cell_type": "code",
   "execution_count": 5,
   "metadata": {},
   "outputs": [
    {
     "name": "stdout",
     "output_type": "stream",
     "text": [
      "*** Creating gene-by-cell matrix (gmat) from snap file\n",
      "*** Processing ./datasets/CEMBA190214_11E.snap:\n",
      "1617321848.3694398 43854379 1000000\n",
      "1000000/43854379: t=24.611 s; estimated total time = 17.989 min\n",
      "2000000/43854379: t=51.031 s; estimated total time = 18.650 min\n",
      "3000000/43854379: t=76.634 s; estimated total time = 18.671 min\n",
      "4000000/43854379: t=101.888 s; estimated total time = 18.618 min\n",
      "5000000/43854379: t=127.391 s; estimated total time = 18.622 min\n",
      "6000000/43854379: t=154.589 s; estimated total time = 18.832 min\n",
      "7000000/43854379: t=180.648 s; estimated total time = 18.862 min\n",
      "8000000/43854379: t=205.113 s; estimated total time = 18.740 min\n",
      "9000000/43854379: t=228.265 s; estimated total time = 18.538 min\n",
      "10000000/43854379: t=251.781 s; estimated total time = 18.403 min\n",
      "11000000/43854379: t=276.965 s; estimated total time = 18.403 min\n",
      "12000000/43854379: t=301.451 s; estimated total time = 18.361 min\n",
      "13000000/43854379: t=324.313 s; estimated total time = 18.234 min\n",
      "14000000/43854379: t=348.558 s; estimated total time = 18.197 min\n",
      "15000000/43854379: t=372.114 s; estimated total time = 18.132 min\n",
      "16000000/43854379: t=396.586 s; estimated total time = 18.117 min\n",
      "17000000/43854379: t=421.481 s; estimated total time = 18.121 min\n",
      "18000000/43854379: t=445.351 s; estimated total time = 18.084 min\n",
      "19000000/43854379: t=470.271 s; estimated total time = 18.091 min\n",
      "20000000/43854379: t=493.857 s; estimated total time = 18.048 min\n",
      "21000000/43854379: t=517.154 s; estimated total time = 18.000 min\n",
      "22000000/43854379: t=541.238 s; estimated total time = 17.982 min\n",
      "23000000/43854379: t=565.730 s; estimated total time = 17.978 min\n",
      "24000000/43854379: t=590.704 s; estimated total time = 17.990 min\n",
      "25000000/43854379: t=614.672 s; estimated total time = 17.971 min\n",
      "26000000/43854379: t=639.072 s; estimated total time = 17.965 min\n",
      "27000000/43854379: t=663.672 s; estimated total time = 17.966 min\n",
      "28000000/43854379: t=688.181 s; estimated total time = 17.964 min\n",
      "29000000/43854379: t=711.406 s; estimated total time = 17.930 min\n",
      "30000000/43854379: t=734.488 s; estimated total time = 17.895 min\n",
      "31000000/43854379: t=757.817 s; estimated total time = 17.868 min\n",
      "32000000/43854379: t=781.000 s; estimated total time = 17.839 min\n",
      "33000000/43854379: t=806.447 s; estimated total time = 17.862 min\n",
      "34000000/43854379: t=829.946 s; estimated total time = 17.842 min\n",
      "35000000/43854379: t=854.821 s; estimated total time = 17.851 min\n",
      "36000000/43854379: t=878.579 s; estimated total time = 17.838 min\n",
      "37000000/43854379: t=903.249 s; estimated total time = 17.843 min\n",
      "38000000/43854379: t=927.992 s; estimated total time = 17.849 min\n",
      "39000000/43854379: t=952.960 s; estimated total time = 17.860 min\n",
      "40000000/43854379: t=977.659 s; estimated total time = 17.864 min\n",
      "41000000/43854379: t=1001.538 s; estimated total time = 17.854 min\n",
      "42000000/43854379: t=1027.118 s; estimated total time = 17.874 min\n",
      "43000000/43854379: t=1051.283 s; estimated total time = 17.870 min\n",
      "44000000/43854379: t=1072.054 s; estimated total time = 17.808 min\n"
     ]
    }
   ],
   "source": [
    "\n",
    "snap_file = \"./datasets/CEMBA190214_11E.snap\"\n",
    "\n",
    "print('*** Creating gene-by-cell matrix (gmat) from snap file')\n",
    "print('*** Processing %s:' % snap_file)\n",
    "\n",
    "# TODO: Filter out cells with < 1000 reads\n",
    "with h5py.File(snap_file,'r') as file:\n",
    "    nbc = file['FM/fragChrom'].shape[0]\n",
    "#     # TEMPORARY: Create smaller dataset for testing    \n",
    "#     nbc = min(nbc, 100000)\n",
    "\n",
    "chunksize = int(1e6)\n",
    "t0=time.time()\n",
    "print(t0, nbc, chunksize)\n",
    "ngenes = genes.shape[0]\n",
    "gmat = coo_matrix((ngenes,nbc), np.int)\n",
    "for istart in np.arange(0,nbc,chunksize):\n",
    "    gmat += assign_genes(snap_file,genes,istart=istart,istop=istart+chunksize)\n",
    "    tcurr = time.time()-t0\n",
    "    print('%d/%d: t=%3.3f s; estimated total time = %3.3f min' % (istart+chunksize,nbc,tcurr,\n",
    "                                                           tcurr*nbc/(istart+chunksize)/60))\n",
    "    \n",
    "    "
   ]
  },
  {
   "cell_type": "code",
   "execution_count": 13,
   "metadata": {},
   "outputs": [
    {
     "name": "stdout",
     "output_type": "stream",
     "text": [
      "<HDF5 dataset \"name\": shape (13257,), type \"|O\">\n",
      "(43854379, 32285) 32285\n"
     ]
    },
    {
     "name": "stderr",
     "output_type": "stream",
     "text": [
      "Transforming to str index.\n",
      "Transforming to str index.\n",
      "/cndd2/fangming/venvs/routine/lib/python3.8/site-packages/anndata/core/anndata.py:1328: FutureWarning: is_categorical is deprecated and will be removed in a future version.  Use is_categorical_dtype instead\n",
      "  and not is_categorical(df[key])\n",
      "... storing 'chr' as categorical\n",
      "... storing 'gene' as categorical\n",
      "/cndd2/fangming/venvs/routine/lib/python3.8/site-packages/anndata/core/anndata.py:108: FutureWarning: is_categorical is deprecated and will be removed in a future version.  Use is_categorical_dtype instead\n",
      "  elif is_categorical(df[k]):\n",
      "/cndd2/fangming/venvs/routine/lib/python3.8/site-packages/anndata/core/anndata.py:101: FutureWarning: is_categorical is deprecated and will be removed in a future version.  Use is_categorical_dtype instead\n",
      "  if is_string_dtype(df[k]) and not is_categorical(df[k]):\n"
     ]
    }
   ],
   "source": [
    "# Aditya: Save anndata\n",
    "\n",
    "with h5py.File(snap_file,'r') as file:\n",
    "    print(file['BD']['name'])\n",
    "\n",
    "# TODO: Set obs to numerical index\n",
    "n_genes, n_obs = gmat.shape\n",
    "obs_df = pd.DataFrame(index=pd.RangeIndex(start=0, stop=n_obs))\n",
    "print(gmat.T.shape, len(genes))\n",
    "adata = ad.AnnData(X = gmat.T,\n",
    "                   obs = obs_df,\n",
    "                   var = genes,\n",
    "                   )\n",
    "results_file = snap_file.replace('.snap', '.h5ad')\n",
    "results_file = 'test.h5ad'\n",
    "adata.write_h5ad(results_file)"
   ]
  },
  {
   "cell_type": "code",
   "execution_count": 6,
   "metadata": {},
   "outputs": [
    {
     "data": {
      "text/plain": [
       "<32285x43854379 sparse matrix of type '<class 'numpy.float64'>'\n",
       "\twith 22419186 stored elements in Compressed Sparse Row format>"
      ]
     },
     "execution_count": 6,
     "metadata": {},
     "output_type": "execute_result"
    }
   ],
   "source": [
    "gmat"
   ]
  },
  {
   "cell_type": "code",
   "execution_count": 7,
   "metadata": {},
   "outputs": [
    {
     "data": {
      "text/plain": [
       "array([3547., 2711., 2928., ...,    0.,    0.,    0.])"
      ]
     },
     "execution_count": 7,
     "metadata": {},
     "output_type": "execute_result"
    }
   ],
   "source": [
    "cell_cov"
   ]
  },
  {
   "cell_type": "code",
   "execution_count": 8,
   "metadata": {},
   "outputs": [
    {
     "name": "stderr",
     "output_type": "stream",
     "text": [
      "findfont: Font family ['sans-serif'] not found. Falling back to DejaVu Sans.\n"
     ]
    },
    {
     "data": {
      "image/png": "[encoded data removed]",
      "text/plain": [
       "<Figure size 432x288 with 1 Axes>"
      ]
     },
     "metadata": {
      "needs_background": "light"
     },
     "output_type": "display_data"
    }
   ],
   "source": [
    "import seaborn as sns\n",
    "import matplotlib.pyplot as plt\n",
    "\n",
    "fig, ax = plt.subplots()\n",
    "ax.plot(np.sort(cell_cov))\n",
    "plt.show()"
   ]
  },
  {
   "cell_type": "code",
   "execution_count": 9,
   "metadata": {},
   "outputs": [
    {
     "data": {
      "text/plain": [
       "0.0"
      ]
     },
     "execution_count": 9,
     "metadata": {},
     "output_type": "execute_result"
    }
   ],
   "source": [
    "np.max(cell_cov)\n",
    "np.min(cell_cov)"
   ]
  },
  {
   "cell_type": "code",
   "execution_count": 10,
   "metadata": {},
   "outputs": [
    {
     "data": {
      "text/plain": [
       "array([ True,  True,  True, ..., False, False, False])"
      ]
     },
     "execution_count": 10,
     "metadata": {},
     "output_type": "execute_result"
    }
   ],
   "source": [
    "cell_cov > 5"
   ]
  },
  {
   "cell_type": "code",
   "execution_count": 19,
   "metadata": {},
   "outputs": [
    {
     "name": "stdout",
     "output_type": "stream",
     "text": [
      "(13257,)\n",
      "(13257,)\n",
      "(13186,)\n"
     ]
    }
   ],
   "source": [
    "print(cell_cov[cell_cov > 0].shape)\n",
    "print(cell_cov[cell_cov > 0].shape)\n",
    "print(cell_cov[cell_cov > 100].shape)"
   ]
  },
  {
   "cell_type": "code",
   "execution_count": 20,
   "metadata": {},
   "outputs": [
    {
     "data": {
      "text/plain": [
       "(43854379,)"
      ]
     },
     "execution_count": 20,
     "metadata": {},
     "output_type": "execute_result"
    }
   ],
   "source": [
    "cell_cov.shape"
   ]
  },
  {
   "cell_type": "code",
   "execution_count": 16,
   "metadata": {},
   "outputs": [
    {
     "data": {
      "text/plain": [
       "<32285x43854379 sparse matrix of type '<class 'numpy.float64'>'\n",
       "\twith 22419186 stored elements in Compressed Sparse Row format>"
      ]
     },
     "execution_count": 16,
     "metadata": {},
     "output_type": "execute_result"
    }
   ],
   "source": [
    "# select counts > 0 is very important\n",
    "\n",
    "cell_cov = np.ravel(gmat.sum(axis=0))"
   ]
  },
  {
   "cell_type": "code",
   "execution_count": 30,
   "metadata": {},
   "outputs": [],
   "source": [
    "gmat_new = gmat.tocsc()[:,np.where(cell_cov>0)[0]]"
   ]
  },
  {
   "cell_type": "code",
   "execution_count": 31,
   "metadata": {},
   "outputs": [
    {
     "data": {
      "text/plain": [
       "<32285x13257 sparse matrix of type '<class 'numpy.float64'>'\n",
       "\twith 22419186 stored elements in Compressed Sparse Column format>"
      ]
     },
     "execution_count": 31,
     "metadata": {},
     "output_type": "execute_result"
    }
   ],
   "source": [
    "gmat_new"
   ]
  },
  {
   "cell_type": "code",
   "execution_count": 35,
   "metadata": {},
   "outputs": [
    {
     "name": "stderr",
     "output_type": "stream",
     "text": [
      "Transforming to str index.\n",
      "Transforming to str index.\n",
      "... storing 'chr' as categorical\n",
      "... storing 'gene' as categorical\n"
     ]
    }
   ],
   "source": [
    "# TODO: Set obs to numerical index\n",
    "n_genes, n_obs = gmat_new.shape\n",
    "obs_df = pd.DataFrame(index=pd.RangeIndex(start=0, stop=n_obs))\n",
    "adata = ad.AnnData(X = gmat_new.T,\n",
    "                   obs = obs_df,\n",
    "                   var = genes,\n",
    "                   )\n",
    "results_file = snap_file.replace('.snap', '.h5ad')\n",
    "results_file = 'test.h5ad'\n",
    "adata.write_h5ad(results_file)"
   ]
  }
 ],
 "metadata": {
  "kernelspec": {
   "display_name": "Python 3",
   "language": "python",
   "name": "python3"
  },
  "language_info": {
   "codemirror_mode": {
    "name": "ipython",
    "version": 3
   },
   "file_extension": ".py",
   "mimetype": "text/x-python",
   "name": "python",
   "nbconvert_exporter": "python",
   "pygments_lexer": "ipython3",
   "version": "3.8.1"
  }
 },
 "nbformat": 4,
 "nbformat_minor": 4
}
