{
 "cells": [
  {
   "cell_type": "code",
   "execution_count": 1,
   "metadata": {},
   "outputs": [],
   "source": [
    "import sys\n",
    "sys.path.insert(0, '/cndd/fangming/CEMBA/snmcseq_dev')\n",
    "import importlib\n",
    "\n",
    "from __init__ import *\n",
    "from __init__jupyterlab import *\n",
    "import snmcseq_utils\n",
    "importlib.reload(snmcseq_utils)\n",
    "import CEMBA_preproc_utils\n",
    "importlib.reload(CEMBA_preproc_utils)\n",
    "import CEMBA_clst_utils\n",
    "import re\n",
    "\n",
    "from scipy import sparse\n",
    "import time\n",
    "\n",
    "# from scipy.io import mmread\n",
    "# import fbpca"
   ]
  },
  {
   "cell_type": "code",
   "execution_count": 2,
   "metadata": {},
   "outputs": [
    {
     "data": {
      "text/plain": [
       "'3.1.3'"
      ]
     },
     "execution_count": 2,
     "metadata": {},
     "output_type": "execute_result"
    }
   ],
   "source": [
    "import matplotlib\n",
    "matplotlib.__version__"
   ]
  },
  {
   "cell_type": "markdown",
   "metadata": {},
   "source": [
    "# Task\n",
    "\n",
    "- start from prepared files \n",
    "\n",
    "```metadata``` ```count matrix```\n",
    "- get and store hvfeatures"
   ]
  },
  {
   "cell_type": "markdown",
   "metadata": {},
   "source": [
    "# Settings"
   ]
  },
  {
   "cell_type": "code",
   "execution_count": 3,
   "metadata": {},
   "outputs": [],
   "source": [
    "# !cp ./data/organized_scf/__init__datasets.py ./data/test_Jan6_Astro/"
   ]
  },
  {
   "cell_type": "code",
   "execution_count": 4,
   "metadata": {},
   "outputs": [],
   "source": [
    "SRC_DIR = './data/test_Jan6_Astro'\n",
    "DST_DIR = './data/test_Jan6_Astro'\n",
    "sys.path.insert(0, SRC_DIR)\n",
    "from __init__datasets import *\n",
    "\n",
    "f_meta_format = '{0}/{1}_metadata.tsv'\n",
    "f_data_format = '{0}/{1}_{2}raw.{3}'\n",
    "f_hvftr_format = '{0}/{1}_hvfeatures.{2}'\n",
    "f_ftr_format = '{0}/{1}_features.{2}'\n",
    "\n",
    "def get_size_in_GB(obj):\n",
    "    \"\"\"\"\"\"\n",
    "    GB = 1024**3\n",
    "    return sys.getsizeof(obj)/GB"
   ]
  },
  {
   "cell_type": "code",
   "execution_count": 5,
   "metadata": {},
   "outputs": [],
   "source": [
    "mods_selected = [\n",
    "    'snrna',\n",
    "    'atac',\n",
    "]\n",
    "\n",
    "normalization_options = {\n",
    "    'snrna': 'CPM',\n",
    "    'atac': 'TPM',\n",
    "}"
   ]
  },
  {
   "cell_type": "code",
   "execution_count": 6,
   "metadata": {},
   "outputs": [
    {
     "name": "stdout",
     "output_type": "stream",
     "text": [
      "(58381, 5)\n",
      "(58381,)\n",
      "id\n",
      "ENSG00000223972_DDX11L1          2541\n",
      "ENSG00000227232_WASH7P          15167\n",
      "ENSG00000278267_MIR6859-1          68\n",
      "ENSG00000243485_RP11-34P13.3     1556\n",
      "ENSG00000284332_MIR1302-2         138\n",
      "dtype: int64\n"
     ]
    }
   ],
   "source": [
    "# # # # gene name as index\n",
    "# gene_annot_file = '/cndd2/fangming/projects/m3c/refs/gencode_v32_gene_annotation.bed' \n",
    "# gene_annot = pd.read_csv(gene_annot_file, sep=\"\\t\", names=['chr', 'start', 'end', 'gene_id', 'gene_name'])\n",
    "# gene_annot_v2 = gene_annot.groupby('gene_name').first()\n",
    "# print(gene_annot_v2.shape)\n",
    "# gene_lengths_base = (gene_annot_v2['end'] - gene_annot_v2['start'])\n",
    "# print(gene_lengths_base.head())\n",
    "# get gene_lengths\n",
    "\n",
    "def clean_gene_ids(x):\n",
    "    \"\"\"\n",
    "    \"\"\"\n",
    "    start, end = re.search(\".[0-9]+_\", x).span()\n",
    "    return x[:start]+\"_\"+x[end:]\n",
    "\n",
    "f = os.path.join('./data/orig_Jan6', 'hg38_gencode_v28_genes.bed')\n",
    "df_genes = pd.read_csv(f, sep=\"\\t\", header=None, \n",
    "                       names=['chr', 'start', 'end', 'id', 'score', 'strand']\n",
    "                      )\n",
    "df_genes['id'] = df_genes['id'].apply(clean_gene_ids)\n",
    "df_genes = df_genes.set_index('id')\n",
    "print(df_genes.shape)\n",
    "\n",
    "gene_lengths_base = (df_genes['end'] - df_genes['start'])\n",
    "print(gene_lengths_base.shape)\n",
    "print(gene_lengths_base.head())"
   ]
  },
  {
   "cell_type": "markdown",
   "metadata": {},
   "source": [
    "# highly variable features"
   ]
  },
  {
   "cell_type": "code",
   "execution_count": 7,
   "metadata": {},
   "outputs": [
    {
     "name": "stdout",
     "output_type": "stream",
     "text": [
      "snrna\n",
      "snrna Reading in files 0.07193613052368164\n",
      "(28422, 13135)\n",
      "snrna Preproc and get highly variable genes 1.9383690357208252\n",
      "Removing low coverage genes...\n",
      "Getting CPM..\n",
      "Getting highly variable genes and logCPM...\n",
      "Number of genes: 4365\n",
      "snrna Saving to files 10.072838544845581\n",
      "snrna Total time used: 14.597919940948486\n",
      "atac\n",
      "atac Reading in files 0.06397461891174316\n",
      "(58381, 6385)\n",
      "atac Preproc and get highly variable genes 1.8791122436523438\n",
      "Imputing gene lengths...\n",
      "Removing low coverage genes...\n",
      "Getting CPM..\n",
      "Getting highly variable genes and logCPM...\n",
      "Getting logTPM...\n",
      "Trim logTPM matrix...\n",
      "Number of genes: 10449\n",
      "atac Saving to files 16.506623029708862\n",
      "atac Total time used: 21.08558678627014\n"
     ]
    }
   ],
   "source": [
    "for mod in mods_selected:\n",
    "    ti = time.time()\n",
    "    print(mod)\n",
    "    \n",
    "    # read metadata\n",
    "    normalization_option = normalization_options[mod]\n",
    "    f_meta = f_meta_format.format(SRC_DIR, mod) ##\n",
    "    meta = pd.read_csv(f_meta, sep=\"\\t\", index_col=0)\n",
    "    \n",
    "    # read data matrix\n",
    "    if normalization_option == 'MC':\n",
    "        f_data_gene = f_data_format.format(SRC_DIR, mod, '', 'gene')\n",
    "        f_data_cell = f_data_format.format(SRC_DIR, mod, '', 'cell')\n",
    "        f_data_c = f_data_format.format(SRC_DIR, mod, 'CH_', 'npz')\n",
    "        f_data_mc = f_data_format.format(SRC_DIR, mod, 'mCH_', 'npz')\n",
    "        \n",
    "        # read in files\n",
    "        print(mod, \"Reading in files {}\".format(time.time()-ti))\n",
    "        gxc_raw = snmcseq_utils.load_gc_matrix_methylation(f_data_gene, f_data_cell, f_data_mc, f_data_c)\n",
    "        print(gxc_raw.data['mc'].shape, gxc_raw.data['c'].shape)\n",
    "        print(time.time()-ti)\n",
    "        \n",
    "        # output file\n",
    "        f_hvftr_data_methylation = f_hvftr_format.format(DST_DIR, mod, 'tsv') \n",
    "        print(time.time()-ti)\n",
    "        \n",
    "        # check meta cells agree with gxc cells\n",
    "        assert np.all(meta.index.values == gxc_raw.cell)\n",
    "        # check genes are uniq \n",
    "        assert len(gxc_raw.gene) == len(np.unique(gxc_raw.gene)) \n",
    "        \n",
    "        # do\n",
    "        gxc_hvftr = CEMBA_preproc_utils.preproc_methylation(\n",
    "                                                            gxc_raw,\n",
    "                                                            meta,\n",
    "                                                            global_value_col=settings[mod].global_mean, \n",
    "                                                            base_call_cutoff=20, \n",
    "                                                            sufficient_coverage_fraction=0.95,\n",
    "                                                            hv_percentile=30,\n",
    "                                                            n_qcut=10,\n",
    "                                                            )\n",
    "        # save\n",
    "        print(mod, \"Saving to files {}\".format(time.time()-ti))\n",
    "        gxc_hvftr.to_csv(f_hvftr_data_methylation, sep=\"\\t\", header=True, index=True, na_rep='NA')\n",
    "        \n",
    "        \n",
    "        \n",
    "    else:\n",
    "        f_data = f_data_format.format(SRC_DIR, mod, '', 'npz') \n",
    "        f_data_gene = f_data_format.format(SRC_DIR, mod, '', 'gene') \n",
    "        f_data_cell = f_data_format.format(SRC_DIR, mod, '', 'cell') \n",
    "        \n",
    "        # read in files\n",
    "        print(mod, \"Reading in files {}\".format(time.time()-ti))\n",
    "        gxc_raw = snmcseq_utils.load_gc_matrix(f_data_gene, f_data_cell, f_data) # checked dimensions in agreement internally\n",
    "        print(gxc_raw.data.shape)\n",
    "        \n",
    "        # output files\n",
    "        f_hvftr_data = f_hvftr_format.format(DST_DIR, mod, 'npz') \n",
    "        f_hvftr_gene = f_hvftr_format.format(DST_DIR, mod, 'gene') \n",
    "        f_hvftr_cell = f_hvftr_format.format(DST_DIR, mod, 'cell') \n",
    "        \n",
    "        # check meta cells agree with gxc cells\n",
    "        assert np.all(meta.index.values == gxc_raw.cell)\n",
    "        # check genes are uniq \n",
    "        assert len(gxc_raw.gene) == len(np.unique(gxc_raw.gene)) \n",
    "    \n",
    "        # get hvftrs\n",
    "        print(mod, \"Preproc and get highly variable genes {}\".format(time.time()-ti))\n",
    "        if normalization_option == 'CPM':\n",
    "            gxc_hvftr = CEMBA_preproc_utils.preproc_rna_cpm_based(\n",
    "                                             gxc_raw, \n",
    "                                             sufficient_cell_coverage=0.01, \n",
    "                                             hv_percentile=30, hv_ncut=10)\n",
    "            # save\n",
    "            print(mod, \"Saving to files {}\".format(time.time()-ti))\n",
    "            snmcseq_utils.save_gc_matrix(gxc_hvftr, f_hvftr_gene, f_hvftr_cell, f_hvftr_data)\n",
    "\n",
    "        elif normalization_option == 'TPM':\n",
    "            gene_lengths = gene_lengths_base.reindex(gxc_raw.gene)\n",
    "            gxc_hvftr = CEMBA_preproc_utils.preproc_rna_tpm_based(\n",
    "                                             gxc_raw, gene_lengths, impute_gene_lengths=True, \n",
    "                                             sufficient_cell_coverage=0.01, \n",
    "                                             hv_percentile=30, hv_ncut=10)\n",
    "            # save\n",
    "            print(mod, \"Saving to files {}\".format(time.time()-ti))\n",
    "            snmcseq_utils.save_gc_matrix(gxc_hvftr, f_hvftr_gene, f_hvftr_cell, f_hvftr_data)\n",
    "    \n",
    "    \n",
    "    print(mod, \"Total time used: {}\".format(time.time()-ti))\n",
    "    "
   ]
  },
  {
   "cell_type": "markdown",
   "metadata": {},
   "source": [
    "## Check highly-variable genes"
   ]
  },
  {
   "cell_type": "code",
   "execution_count": 8,
   "metadata": {},
   "outputs": [
    {
     "name": "stdout",
     "output_type": "stream",
     "text": [
      "snrna\n",
      "['ENSG00000169972_PUSL1' 'ENSG00000272449_AL139246.5'\n",
      " 'ENSG00000234546_LINC01759' ... 'ENSG00000160209_PDXK'\n",
      " 'ENSG00000160307_S100B' 'ENSG00000198786_MT-ND5']\n",
      "['MCX_ALS_332_AAGCGTTCACCTAAAC' 'MCX_ALS_332_AATGAAGAGTCCGCCA'\n",
      " 'MCX_ALS_332_AATTCCTTCCGTTGAA' ... 'mFCX_Control_906_TTTGATCAGTCACACT'\n",
      " 'mFCX_Control_906_TTTGGAGCACCGCTAG' 'mFCX_Control_906_TTTGTTGAGAGTGTTA']\n",
      "4365 13135 (4365, 13135)\n",
      "Contains NaN? False\n",
      "atac\n",
      "['ENSG00000216710_COX6A1P3' 'ENSG00000170688_OR5E1P'\n",
      " 'ENSG00000230576_OR6R1P' ... 'ENSG00000231557_AC018717.1'\n",
      " 'ENSG00000225885_AC023590.1' 'ENSG00000086758_HUWE1']\n",
      "['MCX_ALS_110_AAACGAAAGAGATTAC' 'MCX_ALS_110_AACGAGGGTCGAGGAT'\n",
      " 'MCX_ALS_110_ACATGCACAGGTTATC' ... 'mFCX_FTD_908_TTGCAGACAACTCAAC'\n",
      " 'mFCX_FTD_908_TTGGTCCTCTCTGCAC' 'mFCX_FTD_908_TTTGGTTCATGCGTTA']\n",
      "10449 6385 (10449, 6385)\n",
      "Contains NaN? False\n"
     ]
    }
   ],
   "source": [
    "for mod in mods_selected:\n",
    "    print(mod)\n",
    "    if settings[mod].mod_category == 'mc':\n",
    "        f_hvftr_data = f_hvftr_format.format(SRC_DIR, mod, 'tsv') \n",
    "        gxc_hvftr = pd.read_csv(f_hvftr_data, sep=\"\\t\", index_col=0)\n",
    "        print(gxc_hvftr.index.values)\n",
    "        print(gxc_hvftr.columns.values)\n",
    "        print(gxc_hvftr.shape)\n",
    "        has_nan = np.isnan(gxc_hvftr.values).any()\n",
    "        print(\"Contains NaN? {}\".format(has_nan))\n",
    "        \n",
    "        continue\n",
    "        \n",
    "    f_hvftr_data = f_hvftr_format.format(SRC_DIR, mod, 'npz') \n",
    "    f_hvftr_gene = f_hvftr_format.format(SRC_DIR, mod, 'gene') \n",
    "    f_hvftr_cell = f_hvftr_format.format(SRC_DIR, mod, 'cell') \n",
    "    gxc_hvftr = snmcseq_utils.load_gc_matrix(f_hvftr_gene, f_hvftr_cell, f_hvftr_data)\n",
    "    print(gxc_hvftr.gene)\n",
    "    print(gxc_hvftr.cell)\n",
    "    print(len(gxc_hvftr.gene), len(gxc_hvftr.cell), gxc_hvftr.data.shape)\n",
    "    has_nan = np.isnan(gxc_hvftr.data.data).any()\n",
    "    print(\"Contains NaN? {}\".format(has_nan))\n",
    "#     break"
   ]
  }
 ],
 "metadata": {
  "kernelspec": {
   "display_name": "Python 3",
   "language": "python",
   "name": "python3"
  },
  "language_info": {
   "codemirror_mode": {
    "name": "ipython",
    "version": 3
   },
   "file_extension": ".py",
   "mimetype": "text/x-python",
   "name": "python",
   "nbconvert_exporter": "python",
   "pygments_lexer": "ipython3",
   "version": "3.8.1"
  }
 },
 "nbformat": 4,
 "nbformat_minor": 4
}
